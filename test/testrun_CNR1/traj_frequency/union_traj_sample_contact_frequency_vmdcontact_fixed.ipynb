{
 "cells": [
  {
   "cell_type": "code",
   "execution_count": 1,
   "metadata": {},
   "outputs": [
    {
     "name": "stdout",
     "output_type": "stream",
     "text": [
      "3.7.6 (default, Jan  8 2020, 19:59:22) \n",
      "[GCC 7.3.0]\n"
     ]
    }
   ],
   "source": [
    "import sys\n",
    "print (sys.version)\n",
    "\n",
    "sys.path.append('../scripts')\n",
    "#sys.path.append('/home/bxie/PycharmProjects/opioid/Contact_frequency/GPCR_PDBs/scripts')\n",
    "\n",
    "from run import *\n",
    "from _heatmap import *\n",
    "import matplotlib\n",
    "import matplotlib.pyplot as plt\n",
    "import warnings\n",
    "import numpy as np\n",
    "warnings.filterwarnings('ignore')\n",
    "font = {'size': 10}\n",
    "matplotlib.rc('font', **font)\n",
    "convert_index = False\n",
    "\n",
    "import timeit\n",
    "np.set_printoptions(threshold=np.inf)\n",
    "\n",
    "%load_ext autoreload\n",
    "%autoreload 2"
   ]
  },
  {
   "cell_type": "code",
   "execution_count": null,
   "metadata": {},
   "outputs": [],
   "source": []
  },
  {
   "cell_type": "code",
   "execution_count": 2,
   "metadata": {},
   "outputs": [],
   "source": [
    "##### See \"In [11]\", Combine two trajectories information\n",
    "##### PROBLEM is in the format mismatch between ylabels and union_ylables\n",
    "##### ylabels and xlabels: format %3d\n",
    "##### union_labels: format free\n",
    "\n",
    "#### line 90 in wrap_toolkit.py (adding %3d) fix this problem in expanded_function\n",
    "#### now check the output, the problem is fixed for this function!!\n",
    "\n",
    "#### Now, error in reordered function\n",
    "\n",
    "\n",
    "####### UPDATE Dec 7, 2020 ########\n",
    "####### functions in wrap_toolkit.py are used for traj_freq calculations not just for combining the trajs \n",
    "####### Therefore, fixing the format in wrap_toolkit.py will cause issues for other functions\n",
    "\n",
    "######## Changed the format in vmd_contact.py\n",
    "######## e.g. function contact_freq_vmd, lines 162, 164, 166 (%3d --> %d)\n",
    "######## Then, adding key = lambda x: (len (x), x) to the sorted part line 181 (I did it only for Galpha residues)\n",
    "######## But we need to fix it everywhere\n",
    "######## Run *.ipynb for two trajs and all calculations are fine!!!"
   ]
  },
  {
   "cell_type": "code",
   "execution_count": 3,
   "metadata": {},
   "outputs": [
    {
     "data": {
      "text/plain": [
       "'/home/leila/repositories/pia-x/coupler/union_traj_freq_example'"
      ]
     },
     "execution_count": 3,
     "metadata": {},
     "output_type": "execute_result"
    }
   ],
   "source": [
    "pwd"
   ]
  },
  {
   "cell_type": "markdown",
   "metadata": {},
   "source": [
    "### Analyze the 1st traj"
   ]
  },
  {
   "cell_type": "code",
   "execution_count": 4,
   "metadata": {},
   "outputs": [
    {
     "name": "stderr",
     "output_type": "stream",
     "text": [
      "\r",
      "  0%|          | 0/290 [00:00<?, ?it/s]"
     ]
    },
    {
     "name": "stdout",
     "output_type": "stream",
     "text": [
      "mdmb_parameters.ini\n",
      "['mdmb']\n",
      "It will search all possible residues and may take a while.\n"
     ]
    },
    {
     "name": "stderr",
     "output_type": "stream",
     "text": [
      " 16%|█▌        | 45/290 [01:12<06:31,  1.60s/it]"
     ]
    },
    {
     "name": "stdout",
     "output_type": "stream",
     "text": [
      "keep record:r_id 149 and l_id 24\n",
      "rec_residue CYS and lig_residue ARG\n",
      "\n"
     ]
    },
    {
     "name": "stderr",
     "output_type": "stream",
     "text": [
      " 16%|█▌        | 47/290 [01:15<06:27,  1.59s/it]"
     ]
    },
    {
     "name": "stdout",
     "output_type": "stream",
     "text": [
      "keep record:r_id 150 and l_id 350\n",
      "rec_residue ARG and lig_residue ASP\n",
      "\n"
     ]
    },
    {
     "name": "stderr",
     "output_type": "stream",
     "text": [
      " 17%|█▋        | 49/290 [01:18<06:25,  1.60s/it]"
     ]
    },
    {
     "name": "stdout",
     "output_type": "stream",
     "text": [
      "keep record:r_id 152 and l_id 350\n",
      "rec_residue SER and lig_residue ASP\n",
      "\n",
      "keep record:r_id 152 and l_id 351\n",
      "rec_residue SER and lig_residue CYS\n",
      "\n",
      "keep record:r_id 152 and l_id 352\n",
      "rec_residue SER and lig_residue GLY\n",
      "\n"
     ]
    },
    {
     "name": "stderr",
     "output_type": "stream",
     "text": [
      "\r",
      " 17%|█▋        | 50/290 [01:20<06:23,  1.60s/it]"
     ]
    },
    {
     "name": "stdout",
     "output_type": "stream",
     "text": [
      "keep record:r_id 153 and l_id 349\n",
      "rec_residue TYR and lig_residue LYS\n",
      "\n",
      "keep record:r_id 153 and l_id 350\n",
      "rec_residue TYR and lig_residue ASP\n",
      "\n",
      "keep record:r_id 153 and l_id 352\n",
      "rec_residue TYR and lig_residue GLY\n",
      "\n"
     ]
    },
    {
     "name": "stderr",
     "output_type": "stream",
     "text": [
      " 38%|███▊      | 110/290 [02:56<04:47,  1.60s/it]"
     ]
    },
    {
     "name": "stdout",
     "output_type": "stream",
     "text": [
      "keep record:r_id 213 and l_id 351\n",
      "rec_residue ASH and lig_residue CYS\n",
      "\n"
     ]
    },
    {
     "name": "stderr",
     "output_type": "stream",
     "text": [
      "\r",
      " 38%|███▊      | 111/290 [02:58<04:46,  1.60s/it]"
     ]
    },
    {
     "name": "stdout",
     "output_type": "stream",
     "text": [
      "keep record:r_id 214 and l_id 347\n",
      "rec_residue ARG and lig_residue ASN\n",
      "\n",
      "keep record:r_id 214 and l_id 348\n",
      "rec_residue ARG and lig_residue LEU\n",
      "\n",
      "keep record:r_id 214 and l_id 350\n",
      "rec_residue ARG and lig_residue ASP\n",
      "\n",
      "keep record:r_id 214 and l_id 351\n",
      "rec_residue ARG and lig_residue CYS\n",
      "\n",
      "keep record:r_id 214 and l_id 352\n",
      "rec_residue ARG and lig_residue GLY\n",
      "\n",
      "keep record:r_id 214 and l_id 353\n",
      "rec_residue ARG and lig_residue LEU\n",
      "\n"
     ]
    },
    {
     "name": "stderr",
     "output_type": "stream",
     "text": [
      " 39%|███▉      | 114/290 [03:03<04:41,  1.60s/it]"
     ]
    },
    {
     "name": "stdout",
     "output_type": "stream",
     "text": [
      "keep record:r_id 217 and l_id 344\n",
      "rec_residue SER and lig_residue ILE\n",
      "\n",
      "keep record:r_id 217 and l_id 347\n",
      "rec_residue SER and lig_residue ASN\n",
      "\n",
      "keep record:r_id 217 and l_id 348\n",
      "rec_residue SER and lig_residue LEU\n",
      "\n",
      "keep record:r_id 217 and l_id 351\n",
      "rec_residue SER and lig_residue CYS\n",
      "\n"
     ]
    },
    {
     "name": "stderr",
     "output_type": "stream",
     "text": [
      "\r",
      " 40%|███▉      | 115/290 [03:04<04:39,  1.60s/it]"
     ]
    },
    {
     "name": "stdout",
     "output_type": "stream",
     "text": [
      "keep record:r_id 218 and l_id 344\n",
      "rec_residue ILE and lig_residue ILE\n",
      "\n",
      "keep record:r_id 218 and l_id 347\n",
      "rec_residue ILE and lig_residue ASN\n",
      "\n",
      "keep record:r_id 218 and l_id 348\n",
      "rec_residue ILE and lig_residue LEU\n",
      "\n"
     ]
    },
    {
     "name": "stderr",
     "output_type": "stream",
     "text": [
      "\r",
      " 40%|████      | 116/290 [03:06<04:37,  1.60s/it]"
     ]
    },
    {
     "name": "stdout",
     "output_type": "stream",
     "text": [
      "keep record:r_id 220 and l_id 193\n",
      "rec_residue ARG and lig_residue ASP\n",
      "\n"
     ]
    },
    {
     "name": "stderr",
     "output_type": "stream",
     "text": [
      "\r",
      " 40%|████      | 117/290 [03:07<04:36,  1.60s/it]"
     ]
    },
    {
     "name": "stdout",
     "output_type": "stream",
     "text": [
      "keep record:r_id 220 and l_id 347\n",
      "rec_residue ARG and lig_residue ASN\n",
      "\n"
     ]
    },
    {
     "name": "stderr",
     "output_type": "stream",
     "text": [
      "\r",
      " 41%|████      | 118/290 [03:09<04:34,  1.60s/it]"
     ]
    },
    {
     "name": "stdout",
     "output_type": "stream",
     "text": [
      "keep record:r_id 221 and l_id 340\n",
      "rec_residue PRO and lig_residue THR\n",
      "\n",
      "keep record:r_id 221 and l_id 343\n",
      "rec_residue PRO and lig_residue ILE\n",
      "\n",
      "keep record:r_id 221 and l_id 344\n",
      "rec_residue PRO and lig_residue ILE\n",
      "\n",
      "keep record:r_id 221 and l_id 347\n",
      "rec_residue PRO and lig_residue ASN\n",
      "\n",
      "keep record:r_id 222 and l_id 31\n",
      "rec_residue LEU and lig_residue ALA\n",
      "\n",
      "keep record:r_id 222 and l_id 32\n",
      "rec_residue LEU and lig_residue ARG\n",
      "\n",
      "keep record:r_id 222 and l_id 33\n",
      "rec_residue LEU and lig_residue GLU\n",
      "\n",
      "keep record:r_id 222 and l_id 34\n",
      "rec_residue LEU and lig_residue VAL\n",
      "\n",
      "keep record:r_id 222 and l_id 193\n",
      "rec_residue LEU and lig_residue ASP\n",
      "\n",
      "keep record:r_id 222 and l_id 194\n",
      "rec_residue LEU and lig_residue LEU\n",
      "\n",
      "keep record:r_id 222 and l_id 195\n",
      "rec_residue LEU and lig_residue HIS\n",
      "\n"
     ]
    },
    {
     "name": "stderr",
     "output_type": "stream",
     "text": [
      "\r",
      " 41%|████      | 119/290 [03:11<04:33,  1.60s/it]"
     ]
    },
    {
     "name": "stdout",
     "output_type": "stream",
     "text": [
      "keep record:r_id 222 and l_id 336\n",
      "rec_residue LEU and lig_residue PHE\n",
      "\n",
      "keep record:r_id 222 and l_id 340\n",
      "rec_residue LEU and lig_residue THR\n",
      "\n",
      "keep record:r_id 222 and l_id 343\n",
      "rec_residue LEU and lig_residue ILE\n",
      "\n",
      "keep record:r_id 222 and l_id 347\n",
      "rec_residue LEU and lig_residue ASN\n",
      "\n",
      "keep record:r_id 223 and l_id 32\n",
      "rec_residue ALA and lig_residue ARG\n",
      "\n",
      "keep record:r_id 223 and l_id 193\n",
      "rec_residue ALA and lig_residue ASP\n",
      "\n"
     ]
    },
    {
     "name": "stderr",
     "output_type": "stream",
     "text": [
      " 42%|████▏     | 121/290 [03:14<04:34,  1.63s/it]"
     ]
    },
    {
     "name": "stdout",
     "output_type": "stream",
     "text": [
      "keep record:r_id 224 and l_id 347\n",
      "rec_residue TYR and lig_residue ASN\n",
      "\n",
      "keep record:r_id 224 and l_id 350\n",
      "rec_residue TYR and lig_residue ASP\n",
      "\n",
      "keep record:r_id 224 and l_id 351\n",
      "rec_residue TYR and lig_residue CYS\n",
      "\n",
      "keep record:r_id 225 and l_id 31\n",
      "rec_residue LYS and lig_residue ALA\n",
      "\n",
      "keep record:r_id 225 and l_id 32\n",
      "rec_residue LYS and lig_residue ARG\n",
      "\n"
     ]
    },
    {
     "name": "stderr",
     "output_type": "stream",
     "text": [
      "\r",
      " 42%|████▏     | 122/290 [03:16<04:31,  1.62s/it]"
     ]
    },
    {
     "name": "stdout",
     "output_type": "stream",
     "text": [
      "keep record:r_id 225 and l_id 350\n",
      "rec_residue LYS and lig_residue ASP\n",
      "\n",
      "keep record:r_id 226 and l_id 27\n",
      "rec_residue ARG and lig_residue GLY\n",
      "\n",
      "keep record:r_id 226 and l_id 28\n",
      "rec_residue ARG and lig_residue GLU\n",
      "\n",
      "keep record:r_id 226 and l_id 31\n",
      "rec_residue ARG and lig_residue ALA\n",
      "\n",
      "keep record:r_id 226 and l_id 32\n",
      "rec_residue ARG and lig_residue ARG\n",
      "\n",
      "keep record:r_id 226 and l_id 193\n",
      "rec_residue ARG and lig_residue ASP\n",
      "\n",
      "keep record:r_id 226 and l_id 195\n",
      "rec_residue ARG and lig_residue HIS\n",
      "\n"
     ]
    },
    {
     "name": "stderr",
     "output_type": "stream",
     "text": [
      " 43%|████▎     | 126/290 [03:22<04:25,  1.62s/it]"
     ]
    },
    {
     "name": "stdout",
     "output_type": "stream",
     "text": [
      "keep record:r_id 230 and l_id 24\n",
      "rec_residue ARG and lig_residue ARG\n",
      "\n",
      "keep record:r_id 230 and l_id 28\n",
      "rec_residue ARG and lig_residue GLU\n",
      "\n"
     ]
    },
    {
     "name": "stderr",
     "output_type": "stream",
     "text": [
      " 66%|██████▌   | 191/290 [05:06<02:37,  1.59s/it]"
     ]
    },
    {
     "name": "stdout",
     "output_type": "stream",
     "text": [
      "keep record:r_id 294 and l_id 353\n",
      "rec_residue TYR and lig_residue LEU\n",
      "\n"
     ]
    },
    {
     "name": "stderr",
     "output_type": "stream",
     "text": [
      " 67%|██████▋   | 194/290 [05:11<02:32,  1.59s/it]"
     ]
    },
    {
     "name": "stdout",
     "output_type": "stream",
     "text": [
      "keep record:r_id 297 and l_id 348\n",
      "rec_residue ILE and lig_residue LEU\n",
      "\n",
      "keep record:r_id 297 and l_id 353\n",
      "rec_residue ILE and lig_residue LEU\n",
      "\n"
     ]
    },
    {
     "name": "stderr",
     "output_type": "stream",
     "text": [
      " 68%|██████▊   | 197/290 [05:16<02:27,  1.59s/it]"
     ]
    },
    {
     "name": "stdout",
     "output_type": "stream",
     "text": [
      "keep record:r_id 300 and l_id 344\n",
      "rec_residue LYS and lig_residue ILE\n",
      "\n"
     ]
    },
    {
     "name": "stderr",
     "output_type": "stream",
     "text": [
      "\r",
      " 68%|██████▊   | 198/290 [05:17<02:26,  1.59s/it]"
     ]
    },
    {
     "name": "stdout",
     "output_type": "stream",
     "text": [
      "keep record:r_id 301 and l_id 344\n",
      "rec_residue ALA and lig_residue ILE\n",
      "\n",
      "keep record:r_id 301 and l_id 348\n",
      "rec_residue ALA and lig_residue LEU\n",
      "\n"
     ]
    },
    {
     "name": "stderr",
     "output_type": "stream",
     "text": [
      " 69%|██████▉   | 201/290 [05:22<02:24,  1.62s/it]"
     ]
    },
    {
     "name": "stdout",
     "output_type": "stream",
     "text": [
      "keep record:r_id 304 and l_id 337\n",
      "rec_residue HIE and lig_residue ASP\n",
      "\n",
      "keep record:r_id 304 and l_id 338\n",
      "rec_residue HIE and lig_residue ALA\n",
      "\n",
      "keep record:r_id 304 and l_id 340\n",
      "rec_residue HIE and lig_residue THR\n",
      "\n",
      "keep record:r_id 304 and l_id 341\n",
      "rec_residue HIE and lig_residue ASP\n",
      "\n",
      "keep record:r_id 304 and l_id 344\n",
      "rec_residue HIE and lig_residue ILE\n",
      "\n"
     ]
    },
    {
     "name": "stderr",
     "output_type": "stream",
     "text": [
      " 70%|███████   | 204/290 [05:27<02:17,  1.60s/it]"
     ]
    },
    {
     "name": "stdout",
     "output_type": "stream",
     "text": [
      "keep record:r_id 307 and l_id 337\n",
      "rec_residue ARG and lig_residue ASP\n",
      "\n",
      "keep record:r_id 307 and l_id 340\n",
      "rec_residue ARG and lig_residue THR\n",
      "\n",
      "keep record:r_id 308 and l_id 320\n",
      "rec_residue MET and lig_residue TYR\n",
      "\n",
      "keep record:r_id 308 and l_id 334\n",
      "rec_residue MET and lig_residue PHE\n",
      "\n",
      "keep record:r_id 308 and l_id 337\n",
      "rec_residue MET and lig_residue ASP\n",
      "\n",
      "keep record:r_id 308 and l_id 338\n",
      "rec_residue MET and lig_residue ALA\n",
      "\n",
      "keep record:r_id 308 and l_id 340\n",
      "rec_residue MET and lig_residue THR\n",
      "\n",
      "keep record:r_id 308 and l_id 341\n",
      "rec_residue MET and lig_residue ASP\n",
      "\n"
     ]
    },
    {
     "name": "stderr",
     "output_type": "stream",
     "text": [
      " 71%|███████▏  | 207/290 [05:32<02:12,  1.60s/it]"
     ]
    },
    {
     "name": "stdout",
     "output_type": "stream",
     "text": [
      "keep record:r_id 311 and l_id 322\n",
      "rec_residue ARG and lig_residue HIE\n",
      "\n",
      "keep record:r_id 311 and l_id 330\n",
      "rec_residue ARG and lig_residue LYS\n",
      "\n",
      "keep record:r_id 311 and l_id 333\n",
      "rec_residue ARG and lig_residue GLN\n",
      "\n",
      "keep record:r_id 311 and l_id 334\n",
      "rec_residue ARG and lig_residue PHE\n",
      "\n",
      "keep record:r_id 311 and l_id 337\n",
      "rec_residue ARG and lig_residue ASP\n",
      "\n"
     ]
    },
    {
     "name": "stderr",
     "output_type": "stream",
     "text": [
      "\r",
      " 72%|███████▏  | 208/290 [05:33<02:11,  1.60s/it]"
     ]
    },
    {
     "name": "stdout",
     "output_type": "stream",
     "text": [
      "keep record:r_id 312 and l_id 321\n",
      "rec_residue GLY and lig_residue THR\n",
      "\n",
      "keep record:r_id 312 and l_id 322\n",
      "rec_residue GLY and lig_residue HIE\n",
      "\n",
      "keep record:r_id 312 and l_id 334\n",
      "rec_residue GLY and lig_residue PHE\n",
      "\n"
     ]
    },
    {
     "name": "stderr",
     "output_type": "stream",
     "text": [
      "\r",
      " 72%|███████▏  | 209/290 [05:35<02:09,  1.60s/it]"
     ]
    },
    {
     "name": "stdout",
     "output_type": "stream",
     "text": [
      "keep record:r_id 313 and l_id 304\n",
      "rec_residue THR and lig_residue GLN\n",
      "\n",
      "keep record:r_id 313 and l_id 320\n",
      "rec_residue THR and lig_residue TYR\n",
      "\n",
      "keep record:r_id 313 and l_id 321\n",
      "rec_residue THR and lig_residue THR\n",
      "\n",
      "keep record:r_id 313 and l_id 322\n",
      "rec_residue THR and lig_residue HIE\n",
      "\n",
      "keep record:r_id 313 and l_id 323\n",
      "rec_residue THR and lig_residue PHE\n",
      "\n",
      "keep record:r_id 313 and l_id 324\n",
      "rec_residue THR and lig_residue THR\n",
      "\n"
     ]
    },
    {
     "name": "stderr",
     "output_type": "stream",
     "text": [
      "\r",
      " 72%|███████▏  | 210/290 [05:37<02:08,  1.60s/it]"
     ]
    },
    {
     "name": "stdout",
     "output_type": "stream",
     "text": [
      "keep record:r_id 313 and l_id 334\n",
      "rec_residue THR and lig_residue PHE\n",
      "\n",
      "keep record:r_id 313 and l_id 337\n",
      "rec_residue THR and lig_residue ASP\n",
      "\n",
      "keep record:r_id 313 and l_id 338\n",
      "rec_residue THR and lig_residue ALA\n",
      "\n",
      "keep record:r_id 313 and l_id 341\n",
      "rec_residue THR and lig_residue ASP\n",
      "\n",
      "keep record:r_id 335 and l_id 314\n",
      "rec_residue ALA and lig_residue LYS\n",
      "\n",
      "keep record:r_id 335 and l_id 315\n",
      "rec_residue ALA and lig_residue ASP\n",
      "\n",
      "keep record:r_id 335 and l_id 316\n",
      "rec_residue ALA and lig_residue THR\n",
      "\n",
      "keep record:r_id 335 and l_id 318\n",
      "rec_residue ALA and lig_residue GLU\n",
      "\n",
      "keep record:r_id 335 and l_id 341\n",
      "rec_residue ALA and lig_residue ASP\n",
      "\n"
     ]
    },
    {
     "name": "stderr",
     "output_type": "stream",
     "text": [
      "\r",
      " 73%|███████▎  | 211/290 [05:38<02:06,  1.60s/it]"
     ]
    },
    {
     "name": "stdout",
     "output_type": "stream",
     "text": [
      "keep record:r_id 335 and l_id 345\n",
      "rec_residue ALA and lig_residue LYS\n",
      "\n",
      "keep record:r_id 335 and l_id 354\n",
      "rec_residue ALA and lig_residue PHE\n",
      "\n",
      "keep record:r_id 336 and l_id 318\n",
      "rec_residue ARG and lig_residue GLU\n",
      "\n",
      "keep record:r_id 336 and l_id 345\n",
      "rec_residue ARG and lig_residue LYS\n",
      "\n"
     ]
    },
    {
     "name": "stderr",
     "output_type": "stream",
     "text": [
      "\r",
      " 73%|███████▎  | 212/290 [05:40<02:05,  1.60s/it]"
     ]
    },
    {
     "name": "stdout",
     "output_type": "stream",
     "text": [
      "keep record:r_id 336 and l_id 354\n",
      "rec_residue ARG and lig_residue PHE\n",
      "\n"
     ]
    },
    {
     "name": "stderr",
     "output_type": "stream",
     "text": [
      "\r",
      " 73%|███████▎  | 213/290 [05:41<02:03,  1.61s/it]"
     ]
    },
    {
     "name": "stdout",
     "output_type": "stream",
     "text": [
      "keep record:r_id 337 and l_id 344\n",
      "rec_residue MET and lig_residue ILE\n",
      "\n",
      "keep record:r_id 337 and l_id 345\n",
      "rec_residue MET and lig_residue LYS\n",
      "\n",
      "keep record:r_id 337 and l_id 348\n",
      "rec_residue MET and lig_residue LEU\n",
      "\n",
      "keep record:r_id 337 and l_id 349\n",
      "rec_residue MET and lig_residue LYS\n",
      "\n",
      "keep record:r_id 337 and l_id 353\n",
      "rec_residue MET and lig_residue LEU\n",
      "\n",
      "keep record:r_id 337 and l_id 354\n",
      "rec_residue MET and lig_residue PHE\n",
      "\n"
     ]
    },
    {
     "name": "stderr",
     "output_type": "stream",
     "text": [
      " 74%|███████▍  | 215/290 [05:45<01:59,  1.60s/it]"
     ]
    },
    {
     "name": "stdout",
     "output_type": "stream",
     "text": [
      "keep record:r_id 340 and l_id 318\n",
      "rec_residue ARG and lig_residue GLU\n",
      "\n",
      "keep record:r_id 340 and l_id 345\n",
      "rec_residue ARG and lig_residue LYS\n",
      "\n"
     ]
    },
    {
     "name": "stderr",
     "output_type": "stream",
     "text": [
      "\r",
      " 74%|███████▍  | 216/290 [05:46<01:58,  1.60s/it]"
     ]
    },
    {
     "name": "stdout",
     "output_type": "stream",
     "text": [
      "keep record:r_id 340 and l_id 353\n",
      "rec_residue ARG and lig_residue LEU\n",
      "\n",
      "keep record:r_id 340 and l_id 354\n",
      "rec_residue ARG and lig_residue PHE\n",
      "\n"
     ]
    },
    {
     "name": "stderr",
     "output_type": "stream",
     "text": [
      "\r",
      " 75%|███████▍  | 217/290 [05:48<01:56,  1.60s/it]"
     ]
    },
    {
     "name": "stdout",
     "output_type": "stream",
     "text": [
      "keep record:r_id 341 and l_id 348\n",
      "rec_residue LEU and lig_residue LEU\n",
      "\n",
      "keep record:r_id 341 and l_id 353\n",
      "rec_residue LEU and lig_residue LEU\n",
      "\n",
      "keep record:r_id 341 and l_id 354\n",
      "rec_residue LEU and lig_residue PHE\n",
      "\n"
     ]
    },
    {
     "name": "stderr",
     "output_type": "stream",
     "text": [
      " 76%|███████▌  | 220/290 [05:53<01:52,  1.60s/it]"
     ]
    },
    {
     "name": "stdout",
     "output_type": "stream",
     "text": [
      "keep record:r_id 344 and l_id 352\n",
      "rec_residue THR and lig_residue GLY\n",
      "\n",
      "keep record:r_id 344 and l_id 353\n",
      "rec_residue THR and lig_residue LEU\n",
      "\n",
      "keep record:r_id 344 and l_id 354\n",
      "rec_residue THR and lig_residue PHE\n",
      "\n"
     ]
    },
    {
     "name": "stderr",
     "output_type": "stream",
     "text": [
      "\r",
      " 76%|███████▌  | 221/290 [05:54<01:50,  1.60s/it]"
     ]
    },
    {
     "name": "stdout",
     "output_type": "stream",
     "text": [
      "keep record:r_id 345 and l_id 353\n",
      "rec_residue LEU and lig_residue LEU\n",
      "\n"
     ]
    },
    {
     "name": "stderr",
     "output_type": "stream",
     "text": [
      " 77%|███████▋  | 224/290 [05:59<01:45,  1.59s/it]"
     ]
    },
    {
     "name": "stdout",
     "output_type": "stream",
     "text": [
      "keep record:r_id 348 and l_id 353\n",
      "rec_residue ILE and lig_residue LEU\n",
      "\n"
     ]
    },
    {
     "name": "stderr",
     "output_type": "stream",
     "text": [
      " 94%|█████████▍| 272/290 [07:16<00:28,  1.60s/it]"
     ]
    },
    {
     "name": "stdout",
     "output_type": "stream",
     "text": [
      "keep record:r_id 396 and l_id 352\n",
      "rec_residue ILE and lig_residue GLY\n",
      "\n"
     ]
    },
    {
     "name": "stderr",
     "output_type": "stream",
     "text": [
      "\r",
      " 94%|█████████▍| 273/290 [07:17<00:27,  1.60s/it]"
     ]
    },
    {
     "name": "stdout",
     "output_type": "stream",
     "text": [
      "keep record:r_id 397 and l_id 351\n",
      "rec_residue TYR and lig_residue CYS\n",
      "\n",
      "keep record:r_id 397 and l_id 352\n",
      "rec_residue TYR and lig_residue GLY\n",
      "\n"
     ]
    },
    {
     "name": "stderr",
     "output_type": "stream",
     "text": [
      " 95%|█████████▌| 276/290 [07:22<00:22,  1.59s/it]"
     ]
    },
    {
     "name": "stdout",
     "output_type": "stream",
     "text": [
      "keep record:r_id 400 and l_id 349\n",
      "rec_residue ARG and lig_residue LYS\n",
      "\n",
      "keep record:r_id 400 and l_id 350\n",
      "rec_residue ARG and lig_residue ASP\n",
      "\n",
      "keep record:r_id 400 and l_id 351\n",
      "rec_residue ARG and lig_residue CYS\n",
      "\n",
      "keep record:r_id 400 and l_id 352\n",
      "rec_residue ARG and lig_residue GLY\n",
      "\n",
      "keep record:r_id 400 and l_id 354\n",
      "rec_residue ARG and lig_residue PHE\n",
      "\n"
     ]
    },
    {
     "name": "stderr",
     "output_type": "stream",
     "text": [
      "\r",
      " 96%|█████████▌| 277/290 [07:24<00:20,  1.59s/it]"
     ]
    },
    {
     "name": "stdout",
     "output_type": "stream",
     "text": [
      "keep record:r_id 401 and l_id 349\n",
      "rec_residue SER and lig_residue LYS\n",
      "\n",
      "keep record:r_id 401 and l_id 350\n",
      "rec_residue SER and lig_residue ASP\n",
      "\n",
      "keep record:r_id 401 and l_id 351\n",
      "rec_residue SER and lig_residue CYS\n",
      "\n",
      "keep record:r_id 401 and l_id 352\n",
      "rec_residue SER and lig_residue GLY\n",
      "\n",
      "keep record:r_id 401 and l_id 354\n",
      "rec_residue SER and lig_residue PHE\n",
      "\n"
     ]
    },
    {
     "name": "stderr",
     "output_type": "stream",
     "text": [
      "\r",
      " 96%|█████████▌| 278/290 [07:25<00:19,  1.59s/it]"
     ]
    },
    {
     "name": "stdout",
     "output_type": "stream",
     "text": [
      "keep record:r_id 402 and l_id 349\n",
      "rec_residue LYS and lig_residue LYS\n",
      "\n",
      "keep record:r_id 402 and l_id 350\n",
      "rec_residue LYS and lig_residue ASP\n",
      "\n",
      "keep record:r_id 402 and l_id 352\n",
      "rec_residue LYS and lig_residue GLY\n",
      "\n"
     ]
    },
    {
     "name": "stderr",
     "output_type": "stream",
     "text": [
      "\r",
      " 96%|█████████▌| 279/290 [07:27<00:17,  1.59s/it]"
     ]
    },
    {
     "name": "stdout",
     "output_type": "stream",
     "text": [
      "keep record:r_id 403 and l_id 350\n",
      "rec_residue ASP and lig_residue ASP\n",
      "\n"
     ]
    },
    {
     "name": "stderr",
     "output_type": "stream",
     "text": [
      " 97%|█████████▋| 281/290 [07:30<00:14,  1.59s/it]"
     ]
    },
    {
     "name": "stdout",
     "output_type": "stream",
     "text": [
      "keep record:r_id 405 and l_id 349\n",
      "rec_residue ARG and lig_residue LYS\n",
      "\n"
     ]
    },
    {
     "name": "stderr",
     "output_type": "stream",
     "text": [
      "100%|██████████| 290/290 [07:45<00:00,  1.60s/it]"
     ]
    },
    {
     "name": "stdout",
     "output_type": "stream",
     "text": [
      "sorted not_empty_yindex [23, 26, 27, 30, 31, 32, 33, 65, 66, 67, 176, 186, 187, 188, 190, 192, 193, 194, 195, 196, 202, 205, 206, 208, 209, 210, 212, 213, 215, 216, 217, 219, 220, 221, 222, 223, 224, 225, 226]\n",
      "\n",
      "ligand_labels, not sorted ['24 R', '350 D', '350 D', '351 C', '352 G', '349 K', '350 D', '352 G', '351 C', '347 N', '348 L', '350 D', '351 C', '352 G', '353 L', '344 I', '347 N', '348 L', '351 C', '344 I', '347 N', '348 L', '193 D', '347 N', '340 T', '343 I', '344 I', '347 N', '31 A', '32 R', '33 E', '34 V', '193 D', '194 L', '195 H', '336 F', '340 T', '343 I', '347 N', '32 R', '193 D', '347 N', '350 D', '351 C', '31 A', '32 R', '350 D', '27 G', '28 E', '31 A', '32 R', '193 D', '195 H', '24 R', '28 E', '353 L', '348 L', '353 L', '344 I', '344 I', '348 L', '337 D', '338 A', '340 T', '341 D', '344 I', '337 D', '340 T', '320 Y', '334 F', '337 D', '338 A', '340 T', '341 D', '322 H', '330 K', '333 Q', '334 F', '337 D', '321 T', '322 H', '334 F', '304 Q', '320 Y', '321 T', '322 H', '323 F', '324 T', '334 F', '337 D', '338 A', '341 D', '314 K', '315 D', '316 T', '318 E', '341 D', '345 K', '354 F', '318 E', '345 K', '354 F', '344 I', '345 K', '348 L', '349 K', '353 L', '354 F', '318 E', '345 K', '353 L', '354 F', '348 L', '353 L', '354 F', '352 G', '353 L', '354 F', '353 L', '353 L', '352 G', '351 C', '352 G', '349 K', '350 D', '351 C', '352 G', '354 F', '349 K', '350 D', '351 C', '352 G', '354 F', '349 K', '350 D', '352 G', '350 D', '349 K']\n",
      "\n",
      "sorted ligand_labels ['24 R', '27 G', '28 E', '31 A', '32 R', '33 E', '34 V', '193 D', '194 L', '195 H', '304 Q', '314 K', '315 D', '316 T', '318 E', '320 Y', '321 T', '322 H', '323 F', '324 T', '330 K', '333 Q', '334 F', '336 F', '337 D', '338 A', '340 T', '341 D', '343 I', '344 I', '345 K', '347 N', '348 L', '349 K', '350 D', '351 C', '352 G', '353 L', '354 F']\n",
      "\n",
      "\n",
      "['149 C', '150 R', '152 S', '153 Y', '213 D', '214 R', '217 S', '218 I', '220 R', '221 P', '222 L', '223 A', '224 Y', '225 K', '226 R', '230 R', '294 Y', '297 I', '300 K', '301 A', '304 H', '307 R', '308 M', '311 R', '312 G', '313 T', '335 A', '336 R', '337 M', '340 R', '341 L', '344 T', '345 L', '348 I', '396 I', '397 Y', '400 R', '401 S', '402 K', '403 D', '405 R']\n",
      "\n",
      "['24 R', '27 G', '28 E', '31 A', '32 R', '33 E', '34 V', '193 D', '194 L', '195 H', '304 Q', '314 K', '315 D', '316 T', '318 E', '320 Y', '321 T', '322 H', '323 F', '324 T', '330 K', '333 Q', '334 F', '336 F', '337 D', '338 A', '340 T', '341 D', '343 I', '344 I', '345 K', '347 N', '348 L', '349 K', '350 D', '351 C', '352 G', '353 L', '354 F']\n",
      "41\n",
      "39\n"
     ]
    },
    {
     "name": "stderr",
     "output_type": "stream",
     "text": [
      "\n"
     ]
    }
   ],
   "source": [
    "matrix, xlabels, ylabels, x_axis_label, y_axis_label = master('traj_frequency', 'mdmb', 'mdmb_parameters.ini',convert_index)\n",
    "\n",
    "#print(matrix)\n",
    "print(xlabels)\n",
    "print('')\n",
    "print(ylabels)\n",
    "\n",
    "print(len(xlabels))\n",
    "print(len(ylabels))"
   ]
  },
  {
   "cell_type": "code",
   "execution_count": 5,
   "metadata": {},
   "outputs": [
    {
     "data": {
      "text/plain": [
       "Text(0.5, 0, 'G protein residues')"
      ]
     },
     "execution_count": 5,
     "metadata": {},
     "output_type": "execute_result"
    },
    {
     "data": {
      "text/plain": [
       "<Figure size 432x288 with 0 Axes>"
      ]
     },
     "metadata": {},
     "output_type": "display_data"
    },
    {
     "data": {
      "image/png": "[encoded data removed]",
      "text/plain": [
       "<Figure size 864x576 with 2 Axes>"
      ]
     },
     "metadata": {
      "needs_background": "light"
     },
     "output_type": "display_data"
    }
   ],
   "source": [
    "plt.clf()\n",
    "plt.figure(figsize=(12,8))\n",
    "ax = plt.subplot(1, 1, 1)\n",
    "im,cbar = heatmap(matrix, xlabels, ylabels, ax=ax,cmap=\"Blues\", cbarlabel=\"frequency\")\n",
    "texts = annotate_heatmap(im, valfmt=\"{x:.1f}\", size=6)\n",
    "plt.title('MDMB contact frequency between receptor and Galpha')\n",
    "plt.ylabel(y_axis_label)\n",
    "plt.xlabel(x_axis_label)\n"
   ]
  },
  {
   "cell_type": "markdown",
   "metadata": {},
   "source": [
    "### Analyze the 2nd traj"
   ]
  },
  {
   "cell_type": "code",
   "execution_count": 6,
   "metadata": {},
   "outputs": [
    {
     "name": "stderr",
     "output_type": "stream",
     "text": [
      "\r",
      "  0%|          | 0/290 [00:00<?, ?it/s]"
     ]
    },
    {
     "name": "stdout",
     "output_type": "stream",
     "text": [
      "cp55_parameters.ini\n",
      "['mdmb', 'cp55']\n",
      "It will search all possible residues and may take a while.\n"
     ]
    },
    {
     "name": "stderr",
     "output_type": "stream",
     "text": [
      " 16%|█▌        | 47/290 [02:18<11:48,  2.91s/it]"
     ]
    },
    {
     "name": "stdout",
     "output_type": "stream",
     "text": [
      "keep record:r_id 150 and l_id 350\n",
      "rec_residue ARG and lig_residue ASP\n",
      "\n"
     ]
    },
    {
     "name": "stderr",
     "output_type": "stream",
     "text": [
      " 17%|█▋        | 49/290 [02:24<11:42,  2.92s/it]"
     ]
    },
    {
     "name": "stdout",
     "output_type": "stream",
     "text": [
      "keep record:r_id 152 and l_id 350\n",
      "rec_residue SER and lig_residue ASP\n",
      "\n"
     ]
    },
    {
     "name": "stderr",
     "output_type": "stream",
     "text": [
      "\r",
      " 17%|█▋        | 50/290 [02:26<11:39,  2.92s/it]"
     ]
    },
    {
     "name": "stdout",
     "output_type": "stream",
     "text": [
      "keep record:r_id 153 and l_id 350\n",
      "rec_residue TYR and lig_residue ASP\n",
      "\n"
     ]
    },
    {
     "name": "stderr",
     "output_type": "stream",
     "text": [
      " 38%|███▊      | 110/290 [05:23<08:45,  2.92s/it]"
     ]
    },
    {
     "name": "stdout",
     "output_type": "stream",
     "text": [
      "keep record:r_id 213 and l_id 350\n",
      "rec_residue ASH and lig_residue ASP\n",
      "\n",
      "keep record:r_id 213 and l_id 351\n",
      "rec_residue ASH and lig_residue CYS\n",
      "\n"
     ]
    },
    {
     "name": "stderr",
     "output_type": "stream",
     "text": [
      "\r",
      " 38%|███▊      | 111/290 [05:26<08:42,  2.92s/it]"
     ]
    },
    {
     "name": "stdout",
     "output_type": "stream",
     "text": [
      "keep record:r_id 214 and l_id 347\n",
      "rec_residue ARG and lig_residue ASN\n",
      "\n",
      "keep record:r_id 214 and l_id 350\n",
      "rec_residue ARG and lig_residue ASP\n",
      "\n",
      "keep record:r_id 214 and l_id 351\n",
      "rec_residue ARG and lig_residue CYS\n",
      "\n",
      "keep record:r_id 214 and l_id 352\n",
      "rec_residue ARG and lig_residue GLY\n",
      "\n",
      "keep record:r_id 214 and l_id 353\n",
      "rec_residue ARG and lig_residue LEU\n",
      "\n"
     ]
    },
    {
     "name": "stderr",
     "output_type": "stream",
     "text": [
      " 39%|███▉      | 114/290 [05:34<08:32,  2.91s/it]"
     ]
    },
    {
     "name": "stdout",
     "output_type": "stream",
     "text": [
      "keep record:r_id 217 and l_id 347\n",
      "rec_residue SER and lig_residue ASN\n",
      "\n",
      "keep record:r_id 217 and l_id 351\n",
      "rec_residue SER and lig_residue CYS\n",
      "\n"
     ]
    },
    {
     "name": "stderr",
     "output_type": "stream",
     "text": [
      "\r",
      " 40%|███▉      | 115/290 [05:37<08:29,  2.91s/it]"
     ]
    },
    {
     "name": "stdout",
     "output_type": "stream",
     "text": [
      "keep record:r_id 218 and l_id 344\n",
      "rec_residue ILE and lig_residue ILE\n",
      "\n",
      "keep record:r_id 218 and l_id 347\n",
      "rec_residue ILE and lig_residue ASN\n",
      "\n",
      "keep record:r_id 218 and l_id 348\n",
      "rec_residue ILE and lig_residue LEU\n",
      "\n",
      "keep record:r_id 218 and l_id 351\n",
      "rec_residue ILE and lig_residue CYS\n",
      "\n"
     ]
    },
    {
     "name": "stderr",
     "output_type": "stream",
     "text": [
      " 40%|████      | 117/290 [05:43<08:24,  2.91s/it]"
     ]
    },
    {
     "name": "stdout",
     "output_type": "stream",
     "text": [
      "keep record:r_id 221 and l_id 194\n",
      "rec_residue PRO and lig_residue LEU\n",
      "\n"
     ]
    },
    {
     "name": "stderr",
     "output_type": "stream",
     "text": [
      "\r",
      " 41%|████      | 118/290 [05:46<08:21,  2.92s/it]"
     ]
    },
    {
     "name": "stdout",
     "output_type": "stream",
     "text": [
      "keep record:r_id 221 and l_id 340\n",
      "rec_residue PRO and lig_residue THR\n",
      "\n",
      "keep record:r_id 221 and l_id 343\n",
      "rec_residue PRO and lig_residue ILE\n",
      "\n",
      "keep record:r_id 221 and l_id 344\n",
      "rec_residue PRO and lig_residue ILE\n",
      "\n",
      "keep record:r_id 221 and l_id 347\n",
      "rec_residue PRO and lig_residue ASN\n",
      "\n",
      "keep record:r_id 222 and l_id 30\n",
      "rec_residue LEU and lig_residue ALA\n",
      "\n",
      "keep record:r_id 222 and l_id 31\n",
      "rec_residue LEU and lig_residue ALA\n",
      "\n",
      "keep record:r_id 222 and l_id 32\n",
      "rec_residue LEU and lig_residue ARG\n",
      "\n",
      "keep record:r_id 222 and l_id 33\n",
      "rec_residue LEU and lig_residue GLU\n",
      "\n",
      "keep record:r_id 222 and l_id 34\n",
      "rec_residue LEU and lig_residue VAL\n",
      "\n",
      "keep record:r_id 222 and l_id 193\n",
      "rec_residue LEU and lig_residue ASP\n",
      "\n",
      "keep record:r_id 222 and l_id 194\n",
      "rec_residue LEU and lig_residue LEU\n",
      "\n",
      "keep record:r_id 222 and l_id 195\n",
      "rec_residue LEU and lig_residue HIS\n",
      "\n",
      "keep record:r_id 222 and l_id 219\n",
      "rec_residue LEU and lig_residue THR\n",
      "\n",
      "keep record:r_id 222 and l_id 336\n",
      "rec_residue LEU and lig_residue PHE\n",
      "\n",
      "keep record:r_id 222 and l_id 339\n",
      "rec_residue LEU and lig_residue VAL\n",
      "\n",
      "keep record:r_id 222 and l_id 340\n",
      "rec_residue LEU and lig_residue THR\n",
      "\n",
      "keep record:r_id 222 and l_id 343\n",
      "rec_residue LEU and lig_residue ILE\n",
      "\n",
      "keep record:r_id 222 and l_id 347\n",
      "rec_residue LEU and lig_residue ASN\n",
      "\n"
     ]
    },
    {
     "name": "stderr",
     "output_type": "stream",
     "text": [
      "\r",
      " 41%|████      | 119/290 [05:49<08:25,  2.95s/it]"
     ]
    },
    {
     "name": "stdout",
     "output_type": "stream",
     "text": [
      "keep record:r_id 223 and l_id 31\n",
      "rec_residue ALA and lig_residue ALA\n",
      "\n"
     ]
    },
    {
     "name": "stderr",
     "output_type": "stream",
     "text": [
      " 42%|████▏     | 121/290 [05:55<08:17,  2.94s/it]"
     ]
    },
    {
     "name": "stdout",
     "output_type": "stream",
     "text": [
      "keep record:r_id 224 and l_id 347\n",
      "rec_residue TYR and lig_residue ASN\n",
      "\n",
      "keep record:r_id 224 and l_id 350\n",
      "rec_residue TYR and lig_residue ASP\n",
      "\n",
      "keep record:r_id 224 and l_id 351\n",
      "rec_residue TYR and lig_residue CYS\n",
      "\n",
      "keep record:r_id 225 and l_id 28\n",
      "rec_residue LYS and lig_residue GLU\n",
      "\n",
      "keep record:r_id 225 and l_id 30\n",
      "rec_residue LYS and lig_residue ALA\n",
      "\n",
      "keep record:r_id 225 and l_id 31\n",
      "rec_residue LYS and lig_residue ALA\n",
      "\n",
      "keep record:r_id 225 and l_id 32\n",
      "rec_residue LYS and lig_residue ARG\n",
      "\n"
     ]
    },
    {
     "name": "stderr",
     "output_type": "stream",
     "text": [
      "\r",
      " 42%|████▏     | 122/290 [05:58<08:16,  2.96s/it]"
     ]
    },
    {
     "name": "stdout",
     "output_type": "stream",
     "text": [
      "keep record:r_id 226 and l_id 25\n",
      "rec_residue ARG and lig_residue GLU\n",
      "\n",
      "keep record:r_id 226 and l_id 28\n",
      "rec_residue ARG and lig_residue GLU\n",
      "\n",
      "keep record:r_id 226 and l_id 31\n",
      "rec_residue ARG and lig_residue ALA\n",
      "\n",
      "keep record:r_id 226 and l_id 32\n",
      "rec_residue ARG and lig_residue ARG\n",
      "\n"
     ]
    },
    {
     "name": "stderr",
     "output_type": "stream",
     "text": [
      " 43%|████▎     | 125/290 [06:07<08:07,  2.95s/it]"
     ]
    },
    {
     "name": "stdout",
     "output_type": "stream",
     "text": [
      "keep record:r_id 229 and l_id 31\n",
      "rec_residue THR and lig_residue ALA\n",
      "\n"
     ]
    },
    {
     "name": "stderr",
     "output_type": "stream",
     "text": [
      " 44%|████▍     | 128/290 [06:16<07:56,  2.94s/it]"
     ]
    },
    {
     "name": "stdout",
     "output_type": "stream",
     "text": [
      "keep record:r_id 232 and l_id 24\n",
      "rec_residue LYS and lig_residue ARG\n",
      "\n"
     ]
    },
    {
     "name": "stderr",
     "output_type": "stream",
     "text": [
      " 66%|██████▌   | 191/290 [09:21<04:50,  2.94s/it]"
     ]
    },
    {
     "name": "stdout",
     "output_type": "stream",
     "text": [
      "keep record:r_id 294 and l_id 353\n",
      "rec_residue TYR and lig_residue LEU\n",
      "\n"
     ]
    },
    {
     "name": "stderr",
     "output_type": "stream",
     "text": [
      " 67%|██████▋   | 194/290 [09:30<04:40,  2.93s/it]"
     ]
    },
    {
     "name": "stdout",
     "output_type": "stream",
     "text": [
      "keep record:r_id 297 and l_id 348\n",
      "rec_residue ILE and lig_residue LEU\n",
      "\n",
      "keep record:r_id 297 and l_id 351\n",
      "rec_residue ILE and lig_residue CYS\n",
      "\n",
      "keep record:r_id 297 and l_id 353\n",
      "rec_residue ILE and lig_residue LEU\n",
      "\n"
     ]
    },
    {
     "name": "stderr",
     "output_type": "stream",
     "text": [
      " 68%|██████▊   | 197/290 [09:39<04:31,  2.92s/it]"
     ]
    },
    {
     "name": "stdout",
     "output_type": "stream",
     "text": [
      "keep record:r_id 300 and l_id 344\n",
      "rec_residue LYS and lig_residue ILE\n",
      "\n"
     ]
    },
    {
     "name": "stderr",
     "output_type": "stream",
     "text": [
      "\r",
      " 68%|██████▊   | 198/290 [09:42<04:28,  2.91s/it]"
     ]
    },
    {
     "name": "stdout",
     "output_type": "stream",
     "text": [
      "keep record:r_id 301 and l_id 344\n",
      "rec_residue ALA and lig_residue ILE\n",
      "\n",
      "keep record:r_id 301 and l_id 348\n",
      "rec_residue ALA and lig_residue LEU\n",
      "\n"
     ]
    },
    {
     "name": "stderr",
     "output_type": "stream",
     "text": [
      " 69%|██████▉   | 200/290 [09:48<04:22,  2.91s/it]"
     ]
    },
    {
     "name": "stdout",
     "output_type": "stream",
     "text": [
      "keep record:r_id 304 and l_id 337\n",
      "rec_residue HIE and lig_residue ASP\n",
      "\n",
      "keep record:r_id 304 and l_id 340\n",
      "rec_residue HIE and lig_residue THR\n",
      "\n",
      "keep record:r_id 304 and l_id 341\n",
      "rec_residue HIE and lig_residue ASP\n",
      "\n",
      "keep record:r_id 304 and l_id 344\n",
      "rec_residue HIE and lig_residue ILE\n",
      "\n"
     ]
    },
    {
     "name": "stderr",
     "output_type": "stream",
     "text": [
      " 70%|███████   | 203/290 [09:56<04:13,  2.91s/it]"
     ]
    },
    {
     "name": "stdout",
     "output_type": "stream",
     "text": [
      "keep record:r_id 307 and l_id 337\n",
      "rec_residue ARG and lig_residue ASP\n",
      "\n",
      "keep record:r_id 307 and l_id 340\n",
      "rec_residue ARG and lig_residue THR\n",
      "\n",
      "keep record:r_id 307 and l_id 344\n",
      "rec_residue ARG and lig_residue ILE\n",
      "\n"
     ]
    },
    {
     "name": "stderr",
     "output_type": "stream",
     "text": [
      "\r",
      " 70%|███████   | 204/290 [09:59<04:10,  2.91s/it]"
     ]
    },
    {
     "name": "stdout",
     "output_type": "stream",
     "text": [
      "keep record:r_id 308 and l_id 320\n",
      "rec_residue MET and lig_residue TYR\n",
      "\n",
      "keep record:r_id 308 and l_id 337\n",
      "rec_residue MET and lig_residue ASP\n",
      "\n",
      "keep record:r_id 308 and l_id 338\n",
      "rec_residue MET and lig_residue ALA\n",
      "\n",
      "keep record:r_id 308 and l_id 341\n",
      "rec_residue MET and lig_residue ASP\n",
      "\n"
     ]
    },
    {
     "name": "stderr",
     "output_type": "stream",
     "text": [
      " 71%|███████▏  | 207/290 [10:08<04:01,  2.91s/it]"
     ]
    },
    {
     "name": "stdout",
     "output_type": "stream",
     "text": [
      "keep record:r_id 311 and l_id 192\n",
      "rec_residue ARG and lig_residue LYS\n",
      "\n",
      "keep record:r_id 311 and l_id 333\n",
      "rec_residue ARG and lig_residue GLN\n",
      "\n",
      "keep record:r_id 311 and l_id 337\n",
      "rec_residue ARG and lig_residue ASP\n",
      "\n"
     ]
    },
    {
     "name": "stderr",
     "output_type": "stream",
     "text": [
      "\r",
      " 72%|███████▏  | 208/290 [10:11<03:58,  2.91s/it]"
     ]
    },
    {
     "name": "stdout",
     "output_type": "stream",
     "text": [
      "keep record:r_id 312 and l_id 322\n",
      "rec_residue GLY and lig_residue HIE\n",
      "\n",
      "keep record:r_id 312 and l_id 330\n",
      "rec_residue GLY and lig_residue LYS\n",
      "\n"
     ]
    },
    {
     "name": "stderr",
     "output_type": "stream",
     "text": [
      "\r",
      " 72%|███████▏  | 209/290 [10:14<03:56,  2.92s/it]"
     ]
    },
    {
     "name": "stdout",
     "output_type": "stream",
     "text": [
      "keep record:r_id 313 and l_id 320\n",
      "rec_residue THR and lig_residue TYR\n",
      "\n",
      "keep record:r_id 313 and l_id 322\n",
      "rec_residue THR and lig_residue HIE\n",
      "\n",
      "keep record:r_id 313 and l_id 330\n",
      "rec_residue THR and lig_residue LYS\n",
      "\n",
      "keep record:r_id 313 and l_id 333\n",
      "rec_residue THR and lig_residue GLN\n",
      "\n",
      "keep record:r_id 313 and l_id 334\n",
      "rec_residue THR and lig_residue PHE\n",
      "\n",
      "keep record:r_id 313 and l_id 337\n",
      "rec_residue THR and lig_residue ASP\n",
      "\n",
      "keep record:r_id 313 and l_id 338\n",
      "rec_residue THR and lig_residue ALA\n",
      "\n"
     ]
    },
    {
     "name": "stderr",
     "output_type": "stream",
     "text": [
      " 73%|███████▎  | 212/290 [10:23<03:47,  2.91s/it]"
     ]
    },
    {
     "name": "stdout",
     "output_type": "stream",
     "text": [
      "keep record:r_id 337 and l_id 318\n",
      "rec_residue MET and lig_residue GLU\n",
      "\n"
     ]
    },
    {
     "name": "stderr",
     "output_type": "stream",
     "text": [
      "\r",
      " 73%|███████▎  | 213/290 [10:26<03:45,  2.92s/it]"
     ]
    },
    {
     "name": "stdout",
     "output_type": "stream",
     "text": [
      "keep record:r_id 337 and l_id 341\n",
      "rec_residue MET and lig_residue ASP\n",
      "\n",
      "keep record:r_id 337 and l_id 344\n",
      "rec_residue MET and lig_residue ILE\n",
      "\n",
      "keep record:r_id 337 and l_id 345\n",
      "rec_residue MET and lig_residue LYS\n",
      "\n",
      "keep record:r_id 337 and l_id 348\n",
      "rec_residue MET and lig_residue LEU\n",
      "\n",
      "keep record:r_id 337 and l_id 349\n",
      "rec_residue MET and lig_residue LYS\n",
      "\n",
      "keep record:r_id 337 and l_id 354\n",
      "rec_residue MET and lig_residue PHE\n",
      "\n"
     ]
    },
    {
     "name": "stderr",
     "output_type": "stream",
     "text": [
      "\r",
      " 74%|███████▍  | 214/290 [10:29<03:42,  2.92s/it]"
     ]
    },
    {
     "name": "stdout",
     "output_type": "stream",
     "text": [
      "keep record:r_id 338 and l_id 348\n",
      "rec_residue ASP and lig_residue LEU\n",
      "\n"
     ]
    },
    {
     "name": "stderr",
     "output_type": "stream",
     "text": [
      " 74%|███████▍  | 216/290 [10:34<03:35,  2.92s/it]"
     ]
    },
    {
     "name": "stdout",
     "output_type": "stream",
     "text": [
      "keep record:r_id 340 and l_id 353\n",
      "rec_residue ARG and lig_residue LEU\n",
      "\n",
      "keep record:r_id 340 and l_id 354\n",
      "rec_residue ARG and lig_residue PHE\n",
      "\n"
     ]
    },
    {
     "name": "stderr",
     "output_type": "stream",
     "text": [
      "\r",
      " 75%|███████▍  | 217/290 [10:37<03:32,  2.92s/it]"
     ]
    },
    {
     "name": "stdout",
     "output_type": "stream",
     "text": [
      "keep record:r_id 341 and l_id 348\n",
      "rec_residue LEU and lig_residue LEU\n",
      "\n",
      "keep record:r_id 341 and l_id 351\n",
      "rec_residue LEU and lig_residue CYS\n",
      "\n",
      "keep record:r_id 341 and l_id 353\n",
      "rec_residue LEU and lig_residue LEU\n",
      "\n",
      "keep record:r_id 341 and l_id 354\n",
      "rec_residue LEU and lig_residue PHE\n",
      "\n"
     ]
    },
    {
     "name": "stderr",
     "output_type": "stream",
     "text": [
      " 76%|███████▌  | 220/290 [10:46<03:24,  2.91s/it]"
     ]
    },
    {
     "name": "stdout",
     "output_type": "stream",
     "text": [
      "keep record:r_id 344 and l_id 353\n",
      "rec_residue THR and lig_residue LEU\n",
      "\n",
      "keep record:r_id 344 and l_id 354\n",
      "rec_residue THR and lig_residue PHE\n",
      "\n"
     ]
    },
    {
     "name": "stderr",
     "output_type": "stream",
     "text": [
      "\r",
      " 76%|███████▌  | 221/290 [10:49<03:21,  2.92s/it]"
     ]
    },
    {
     "name": "stdout",
     "output_type": "stream",
     "text": [
      "keep record:r_id 345 and l_id 353\n",
      "rec_residue LEU and lig_residue LEU\n",
      "\n"
     ]
    },
    {
     "name": "stderr",
     "output_type": "stream",
     "text": [
      " 77%|███████▋  | 224/290 [10:58<03:12,  2.92s/it]"
     ]
    },
    {
     "name": "stdout",
     "output_type": "stream",
     "text": [
      "keep record:r_id 348 and l_id 352\n",
      "rec_residue ILE and lig_residue GLY\n",
      "\n",
      "keep record:r_id 348 and l_id 353\n",
      "rec_residue ILE and lig_residue LEU\n",
      "\n",
      "keep record:r_id 348 and l_id 354\n",
      "rec_residue ILE and lig_residue PHE\n",
      "\n"
     ]
    },
    {
     "name": "stderr",
     "output_type": "stream",
     "text": [
      " 94%|█████████▍| 272/290 [13:29<00:52,  2.92s/it]"
     ]
    },
    {
     "name": "stdout",
     "output_type": "stream",
     "text": [
      "keep record:r_id 396 and l_id 351\n",
      "rec_residue ILE and lig_residue CYS\n",
      "\n",
      "keep record:r_id 396 and l_id 352\n",
      "rec_residue ILE and lig_residue GLY\n",
      "\n",
      "keep record:r_id 396 and l_id 353\n",
      "rec_residue ILE and lig_residue LEU\n",
      "\n"
     ]
    },
    {
     "name": "stderr",
     "output_type": "stream",
     "text": [
      "\r",
      " 94%|█████████▍| 273/290 [13:32<00:49,  2.92s/it]"
     ]
    },
    {
     "name": "stdout",
     "output_type": "stream",
     "text": [
      "keep record:r_id 397 and l_id 350\n",
      "rec_residue TYR and lig_residue ASP\n",
      "\n",
      "keep record:r_id 397 and l_id 351\n",
      "rec_residue TYR and lig_residue CYS\n",
      "\n",
      "keep record:r_id 397 and l_id 352\n",
      "rec_residue TYR and lig_residue GLY\n",
      "\n",
      "keep record:r_id 397 and l_id 353\n",
      "rec_residue TYR and lig_residue LEU\n",
      "\n"
     ]
    },
    {
     "name": "stderr",
     "output_type": "stream",
     "text": [
      " 95%|█████████▍| 275/290 [13:37<00:43,  2.91s/it]"
     ]
    },
    {
     "name": "stdout",
     "output_type": "stream",
     "text": [
      "keep record:r_id 399 and l_id 352\n",
      "rec_residue LEU and lig_residue GLY\n",
      "\n"
     ]
    },
    {
     "name": "stderr",
     "output_type": "stream",
     "text": [
      "\r",
      " 95%|█████████▌| 276/290 [13:40<00:40,  2.91s/it]"
     ]
    },
    {
     "name": "stdout",
     "output_type": "stream",
     "text": [
      "keep record:r_id 400 and l_id 349\n",
      "rec_residue ARG and lig_residue LYS\n",
      "\n",
      "keep record:r_id 400 and l_id 350\n",
      "rec_residue ARG and lig_residue ASP\n",
      "\n",
      "keep record:r_id 400 and l_id 352\n",
      "rec_residue ARG and lig_residue GLY\n",
      "\n",
      "keep record:r_id 400 and l_id 353\n",
      "rec_residue ARG and lig_residue LEU\n",
      "\n",
      "keep record:r_id 400 and l_id 354\n",
      "rec_residue ARG and lig_residue PHE\n",
      "\n"
     ]
    },
    {
     "name": "stderr",
     "output_type": "stream",
     "text": [
      "\r",
      " 96%|█████████▌| 277/290 [13:43<00:37,  2.91s/it]"
     ]
    },
    {
     "name": "stdout",
     "output_type": "stream",
     "text": [
      "keep record:r_id 401 and l_id 349\n",
      "rec_residue SER and lig_residue LYS\n",
      "\n",
      "keep record:r_id 401 and l_id 350\n",
      "rec_residue SER and lig_residue ASP\n",
      "\n",
      "keep record:r_id 401 and l_id 351\n",
      "rec_residue SER and lig_residue CYS\n",
      "\n",
      "keep record:r_id 401 and l_id 352\n",
      "rec_residue SER and lig_residue GLY\n",
      "\n"
     ]
    },
    {
     "name": "stderr",
     "output_type": "stream",
     "text": [
      "\r",
      " 96%|█████████▌| 278/290 [13:46<00:34,  2.91s/it]"
     ]
    },
    {
     "name": "stdout",
     "output_type": "stream",
     "text": [
      "keep record:r_id 402 and l_id 346\n",
      "rec_residue LYS and lig_residue ASN\n",
      "\n",
      "keep record:r_id 402 and l_id 349\n",
      "rec_residue LYS and lig_residue LYS\n",
      "\n",
      "keep record:r_id 402 and l_id 350\n",
      "rec_residue LYS and lig_residue ASP\n",
      "\n"
     ]
    },
    {
     "name": "stderr",
     "output_type": "stream",
     "text": [
      "\r",
      " 96%|█████████▌| 279/290 [13:49<00:32,  2.91s/it]"
     ]
    },
    {
     "name": "stdout",
     "output_type": "stream",
     "text": [
      "keep record:r_id 403 and l_id 350\n",
      "rec_residue ASP and lig_residue ASP\n",
      "\n"
     ]
    },
    {
     "name": "stderr",
     "output_type": "stream",
     "text": [
      " 97%|█████████▋| 281/290 [13:55<00:26,  2.91s/it]"
     ]
    },
    {
     "name": "stdout",
     "output_type": "stream",
     "text": [
      "keep record:r_id 405 and l_id 349\n",
      "rec_residue ARG and lig_residue LYS\n",
      "\n"
     ]
    },
    {
     "name": "stderr",
     "output_type": "stream",
     "text": [
      "100%|██████████| 290/290 [14:21<00:00,  2.97s/it]"
     ]
    },
    {
     "name": "stdout",
     "output_type": "stream",
     "text": [
      "sorted not_empty_yindex [23, 24, 27, 29, 30, 31, 32, 33, 64, 65, 66, 67, 91, 190, 192, 194, 202, 205, 206, 208, 209, 210, 211, 212, 213, 215, 216, 217, 218, 219, 220, 221, 222, 223, 224, 225, 226]\n",
      "\n",
      "ligand_labels, not sorted ['350 D', '350 D', '350 D', '350 D', '351 C', '347 N', '350 D', '351 C', '352 G', '353 L', '347 N', '351 C', '344 I', '347 N', '348 L', '351 C', '194 L', '340 T', '343 I', '344 I', '347 N', '30 A', '31 A', '32 R', '33 E', '34 V', '193 D', '194 L', '195 H', '219 T', '336 F', '339 V', '340 T', '343 I', '347 N', '31 A', '347 N', '350 D', '351 C', '28 E', '30 A', '31 A', '32 R', '25 E', '28 E', '31 A', '32 R', '31 A', '24 R', '353 L', '348 L', '351 C', '353 L', '344 I', '344 I', '348 L', '337 D', '340 T', '341 D', '344 I', '337 D', '340 T', '344 I', '320 Y', '337 D', '338 A', '341 D', '192 K', '333 Q', '337 D', '322 H', '330 K', '320 Y', '322 H', '330 K', '333 Q', '334 F', '337 D', '338 A', '318 E', '341 D', '344 I', '345 K', '348 L', '349 K', '354 F', '348 L', '353 L', '354 F', '348 L', '351 C', '353 L', '354 F', '353 L', '354 F', '353 L', '352 G', '353 L', '354 F', '351 C', '352 G', '353 L', '350 D', '351 C', '352 G', '353 L', '352 G', '349 K', '350 D', '352 G', '353 L', '354 F', '349 K', '350 D', '351 C', '352 G', '346 N', '349 K', '350 D', '350 D', '349 K']\n",
      "\n",
      "sorted ligand_labels ['24 R', '25 E', '28 E', '30 A', '31 A', '32 R', '33 E', '34 V', '192 K', '193 D', '194 L', '195 H', '219 T', '318 E', '320 Y', '322 H', '330 K', '333 Q', '334 F', '336 F', '337 D', '338 A', '339 V', '340 T', '341 D', '343 I', '344 I', '345 K', '346 N', '347 N', '348 L', '349 K', '350 D', '351 C', '352 G', '353 L', '354 F']\n",
      "\n",
      "\n",
      "['150 R', '152 S', '153 Y', '213 D', '214 R', '217 S', '218 I', '221 P', '222 L', '223 A', '224 Y', '225 K', '226 R', '229 T', '232 K', '294 Y', '297 I', '300 K', '301 A', '304 H', '307 R', '308 M', '311 R', '312 G', '313 T', '337 M', '338 D', '340 R', '341 L', '344 T', '345 L', '348 I', '396 I', '397 Y', '399 L', '400 R', '401 S', '402 K', '403 D', '405 R']\n",
      "\n",
      "['24 R', '25 E', '28 E', '30 A', '31 A', '32 R', '33 E', '34 V', '192 K', '193 D', '194 L', '195 H', '219 T', '318 E', '320 Y', '322 H', '330 K', '333 Q', '334 F', '336 F', '337 D', '338 A', '339 V', '340 T', '341 D', '343 I', '344 I', '345 K', '346 N', '347 N', '348 L', '349 K', '350 D', '351 C', '352 G', '353 L', '354 F']\n",
      "40\n",
      "37\n"
     ]
    },
    {
     "name": "stderr",
     "output_type": "stream",
     "text": [
      "\n"
     ]
    }
   ],
   "source": [
    "matrix2, xlabels2, ylabels2, x_axis_label, y_axis_label = master('traj_frequency', 'cp55', 'cp55_parameters.ini',convert_index)\n",
    "\n",
    "#print(matrix2)\n",
    "print(xlabels2)\n",
    "print('')\n",
    "print(ylabels2)\n",
    "\n",
    "print(len(xlabels2))\n",
    "print(len(ylabels2))"
   ]
  },
  {
   "cell_type": "code",
   "execution_count": 8,
   "metadata": {},
   "outputs": [
    {
     "data": {
      "text/plain": [
       "Text(0.5, 0, 'G protein residues')"
      ]
     },
     "execution_count": 8,
     "metadata": {},
     "output_type": "execute_result"
    },
    {
     "data": {
      "text/plain": [
       "<Figure size 432x288 with 0 Axes>"
      ]
     },
     "metadata": {},
     "output_type": "display_data"
    },
    {
     "data": {
      "image/png": "[encoded data removed]",
      "text/plain": [
       "<Figure size 864x576 with 2 Axes>"
      ]
     },
     "metadata": {
      "needs_background": "light"
     },
     "output_type": "display_data"
    }
   ],
   "source": [
    "plt.clf()\n",
    "plt.figure(figsize=(12,8))\n",
    "ax = plt.subplot(1, 1, 1)\n",
    "im,cbar = heatmap(matrix2, xlabels2, ylabels2, ax=ax,cmap=\"Blues\", cbarlabel=\"frequency\")\n",
    "texts = annotate_heatmap(im, valfmt=\"{x:.1f}\", size=6)\n",
    "plt.title('CP55940 contact frequency between receptor and Galpha')\n",
    "plt.ylabel(y_axis_label)\n",
    "plt.xlabel(x_axis_label)\n"
   ]
  },
  {
   "cell_type": "markdown",
   "metadata": {},
   "source": [
    "### Combine two trajs information together"
   ]
  },
  {
   "cell_type": "code",
   "execution_count": 9,
   "metadata": {
    "scrolled": true
   },
   "outputs": [
    {
     "name": "stdout",
     "output_type": "stream",
     "text": [
      "label_list2 ['150 R', '152 S', '153 Y', '213 D', '214 R', '217 S', '218 I', '221 P', '222 L', '223 A', '224 Y', '225 K', '226 R', '229 T', '232 K', '294 Y', '297 I', '300 K', '301 A', '304 H', '307 R', '308 M', '311 R', '312 G', '313 T', '337 M', '338 D', '340 R', '341 L', '344 T', '345 L', '348 I', '396 I', '397 Y', '399 L', '400 R', '401 S', '402 K', '403 D', '405 R']\n",
      "Function: make_union_list\n",
      "\n",
      "['149 C', '150 R', '152 S', '153 Y', '213 D', '214 R', '217 S', '218 I', '220 R', '221 P', '222 L', '223 A', '224 Y', '225 K', '226 R', '229 T', '230 R', '232 K', '294 Y', '297 I', '300 K', '301 A', '304 H', '307 R', '308 M', '311 R', '312 G', '313 T', '335 A', '336 R', '337 M', '338 D', '340 R', '341 L', '344 T', '345 L', '348 I', '396 I', '397 Y', '399 L', '400 R', '401 S', '402 K', '403 D', '405 R'] sorted\n",
      "\n",
      "\n",
      "label_list2 ['24 R', '25 E', '28 E', '30 A', '31 A', '32 R', '33 E', '34 V', '192 K', '193 D', '194 L', '195 H', '219 T', '318 E', '320 Y', '322 H', '330 K', '333 Q', '334 F', '336 F', '337 D', '338 A', '339 V', '340 T', '341 D', '343 I', '344 I', '345 K', '346 N', '347 N', '348 L', '349 K', '350 D', '351 C', '352 G', '353 L', '354 F']\n",
      "Function: make_union_list\n",
      "\n",
      "['24 R', '25 E', '27 G', '28 E', '30 A', '31 A', '32 R', '33 E', '34 V', '192 K', '193 D', '194 L', '195 H', '219 T', '304 Q', '314 K', '315 D', '316 T', '318 E', '320 Y', '321 T', '322 H', '323 F', '324 T', '330 K', '333 Q', '334 F', '336 F', '337 D', '338 A', '339 V', '340 T', '341 D', '343 I', '344 I', '345 K', '346 N', '347 N', '348 L', '349 K', '350 D', '351 C', '352 G', '353 L', '354 F'] sorted\n",
      "\n",
      "\n",
      "X - Receptor Residues\n",
      "['149 C', '150 R', '152 S', '153 Y', '213 D', '214 R', '217 S', '218 I', '220 R', '221 P', '222 L', '223 A', '224 Y', '225 K', '226 R', '229 T', '230 R', '232 K', '294 Y', '297 I', '300 K', '301 A', '304 H', '307 R', '308 M', '311 R', '312 G', '313 T', '335 A', '336 R', '337 M', '338 D', '340 R', '341 L', '344 T', '345 L', '348 I', '396 I', '397 Y', '399 L', '400 R', '401 S', '402 K', '403 D', '405 R']\n",
      "\n",
      "number of (Full) Receptor residues is: 45\n",
      "\n",
      "\n",
      "Y - Galpha Residues\n",
      "['24 R', '25 E', '27 G', '28 E', '30 A', '31 A', '32 R', '33 E', '34 V', '192 K', '193 D', '194 L', '195 H', '219 T', '304 Q', '314 K', '315 D', '316 T', '318 E', '320 Y', '321 T', '322 H', '323 F', '324 T', '330 K', '333 Q', '334 F', '336 F', '337 D', '338 A', '339 V', '340 T', '341 D', '343 I', '344 I', '345 K', '346 N', '347 N', '348 L', '349 K', '350 D', '351 C', '352 G', '353 L', '354 F']\n",
      "\n",
      "number of (Full) Galpha residues is: 45\n",
      "\n",
      "mdmb - Galpha ['24 R', '27 G', '28 E', '31 A', '32 R', '33 E', '34 V', '193 D', '194 L', '195 H', '304 Q', '314 K', '315 D', '316 T', '318 E', '320 Y', '321 T', '322 H', '323 F', '324 T', '330 K', '333 Q', '334 F', '336 F', '337 D', '338 A', '340 T', '341 D', '343 I', '344 I', '345 K', '347 N', '348 L', '349 K', '350 D', '351 C', '352 G', '353 L', '354 F']\n",
      "\n",
      "before main loops\n",
      "ylabels read by expanded_matrix function\n",
      "['24 R', '27 G', '28 E', '31 A', '32 R', '33 E', '34 V', '193 D', '194 L', '195 H', '304 Q', '314 K', '315 D', '316 T', '318 E', '320 Y', '321 T', '322 H', '323 F', '324 T', '330 K', '333 Q', '334 F', '336 F', '337 D', '338 A', '340 T', '341 D', '343 I', '344 I', '345 K', '347 N', '348 L', '349 K', '350 D', '351 C', '352 G', '353 L', '354 F']\n",
      "\n",
      "15 229 T\n",
      "17 232 K\n",
      "31 338 D\n",
      "39 399 L\n",
      "x - receptor\n",
      "not existed [15, 17, 31, 39]\n",
      "existed [0, 1, 2, 3, 4, 5, 6, 7, 8, 9, 10, 11, 12, 13, 14, 16, 18, 19, 20, 21, 22, 23, 24, 25, 26, 27, 28, 29, 30, 32, 33, 34, 35, 36, 37, 38, 40, 41, 42, 43, 44]\n",
      "\n",
      "PROBLEM is the format mismatch between ylabels and union_ylables\n",
      "before ylabel loop\n",
      "ylables ['24 R', '27 G', '28 E', '31 A', '32 R', '33 E', '34 V', '193 D', '194 L', '195 H', '304 Q', '314 K', '315 D', '316 T', '318 E', '320 Y', '321 T', '322 H', '323 F', '324 T', '330 K', '333 Q', '334 F', '336 F', '337 D', '338 A', '340 T', '341 D', '343 I', '344 I', '345 K', '347 N', '348 L', '349 K', '350 D', '351 C', '352 G', '353 L', '354 F']\n",
      "union_ylables ['24 R', '25 E', '27 G', '28 E', '30 A', '31 A', '32 R', '33 E', '34 V', '192 K', '193 D', '194 L', '195 H', '219 T', '304 Q', '314 K', '315 D', '316 T', '318 E', '320 Y', '321 T', '322 H', '323 F', '324 T', '330 K', '333 Q', '334 F', '336 F', '337 D', '338 A', '339 V', '340 T', '341 D', '343 I', '344 I', '345 K', '346 N', '347 N', '348 L', '349 K', '350 D', '351 C', '352 G', '353 L', '354 F']\n",
      "\n",
      "1 25 E\n",
      "4 30 A\n",
      "9 192 K\n",
      "13 219 T\n",
      "30 339 V\n",
      "36 346 N\n",
      "y - Galpha\n",
      "not existed [1, 4, 9, 13, 30, 36]\n",
      "existed [0, 2, 3, 5, 6, 7, 8, 10, 11, 12, 14, 15, 16, 17, 18, 19, 20, 21, 22, 23, 24, 25, 26, 27, 28, 29, 31, 32, 33, 34, 35, 37, 38, 39, 40, 41, 42, 43, 44]\n",
      "PROBLEM solved\n",
      "\n",
      "before main loops\n",
      "ylabels read by expanded_matrix function\n",
      "['24 R', '25 E', '28 E', '30 A', '31 A', '32 R', '33 E', '34 V', '192 K', '193 D', '194 L', '195 H', '219 T', '318 E', '320 Y', '322 H', '330 K', '333 Q', '334 F', '336 F', '337 D', '338 A', '339 V', '340 T', '341 D', '343 I', '344 I', '345 K', '346 N', '347 N', '348 L', '349 K', '350 D', '351 C', '352 G', '353 L', '354 F']\n",
      "\n",
      "0 149 C\n",
      "8 220 R\n",
      "16 230 R\n",
      "28 335 A\n",
      "29 336 R\n",
      "x - receptor\n",
      "not existed [0, 8, 16, 28, 29]\n",
      "existed [1, 2, 3, 4, 5, 6, 7, 9, 10, 11, 12, 13, 14, 15, 17, 18, 19, 20, 21, 22, 23, 24, 25, 26, 27, 30, 31, 32, 33, 34, 35, 36, 37, 38, 39, 40, 41, 42, 43, 44]\n",
      "\n",
      "PROBLEM is the format mismatch between ylabels and union_ylables\n",
      "before ylabel loop\n",
      "ylables ['24 R', '25 E', '28 E', '30 A', '31 A', '32 R', '33 E', '34 V', '192 K', '193 D', '194 L', '195 H', '219 T', '318 E', '320 Y', '322 H', '330 K', '333 Q', '334 F', '336 F', '337 D', '338 A', '339 V', '340 T', '341 D', '343 I', '344 I', '345 K', '346 N', '347 N', '348 L', '349 K', '350 D', '351 C', '352 G', '353 L', '354 F']\n",
      "union_ylables ['24 R', '25 E', '27 G', '28 E', '30 A', '31 A', '32 R', '33 E', '34 V', '192 K', '193 D', '194 L', '195 H', '219 T', '304 Q', '314 K', '315 D', '316 T', '318 E', '320 Y', '321 T', '322 H', '323 F', '324 T', '330 K', '333 Q', '334 F', '336 F', '337 D', '338 A', '339 V', '340 T', '341 D', '343 I', '344 I', '345 K', '346 N', '347 N', '348 L', '349 K', '350 D', '351 C', '352 G', '353 L', '354 F']\n",
      "\n",
      "2 27 G\n",
      "14 304 Q\n",
      "15 314 K\n",
      "16 315 D\n",
      "17 316 T\n",
      "20 321 T\n",
      "22 323 F\n",
      "23 324 T\n",
      "y - Galpha\n",
      "not existed [2, 14, 15, 16, 17, 20, 22, 23]\n",
      "existed [0, 1, 3, 4, 5, 6, 7, 8, 9, 10, 11, 12, 13, 18, 19, 21, 24, 25, 26, 27, 28, 29, 30, 31, 32, 33, 34, 35, 36, 37, 38, 39, 40, 41, 42, 43, 44]\n",
      "PROBLEM solved\n",
      "[[0.5        0.         0.         0.         0.         0.\n",
      "  0.         0.         0.         0.         0.         0.\n",
      "  0.         0.         0.         0.         0.         0.\n",
      "  0.         0.         0.         0.         0.         0.\n",
      "  0.         0.         0.         0.         0.         0.\n",
      "  0.         0.         0.         0.         0.         0.\n",
      "  0.         0.         0.         0.         0.         0.\n",
      "  0.         0.         0.        ]\n",
      " [0.         0.         0.         0.         0.         0.\n",
      "  0.         0.         0.         0.         0.         0.\n",
      "  0.         0.         0.         0.         0.         0.\n",
      "  0.         0.         0.         0.         0.         0.\n",
      "  0.         0.         0.         0.         0.         0.\n",
      "  0.         0.         0.         0.         0.         0.\n",
      "  0.         0.         0.         0.         0.83333333 0.\n",
      "  0.         0.         0.        ]\n",
      " [0.         0.         0.         0.         0.         0.\n",
      "  0.         0.         0.         0.         0.         0.\n",
      "  0.         0.         0.         0.         0.         0.\n",
      "  0.         0.         0.         0.         0.         0.\n",
      "  0.         0.         0.         0.         0.         0.\n",
      "  0.         0.         0.         0.         0.         0.\n",
      "  0.         0.         0.         0.         0.66666667 0.33333333\n",
      "  0.16666667 0.         0.        ]\n",
      " [0.         0.         0.         0.         0.         0.\n",
      "  0.         0.         0.         0.         0.         0.\n",
      "  0.         0.         0.         0.         0.         0.\n",
      "  0.         0.         0.         0.         0.         0.\n",
      "  0.         0.         0.         0.         0.         0.\n",
      "  0.         0.         0.         0.         0.         0.\n",
      "  0.         0.         0.         0.16666667 0.83333333 0.\n",
      "  0.33333333 0.         0.        ]\n",
      " [0.         0.         0.         0.         0.         0.\n",
      "  0.         0.         0.         0.         0.         0.\n",
      "  0.         0.         0.         0.         0.         0.\n",
      "  0.         0.         0.         0.         0.         0.\n",
      "  0.         0.         0.         0.         0.         0.\n",
      "  0.         0.         0.         0.         0.         0.\n",
      "  0.         0.         0.         0.         0.         0.33333333\n",
      "  0.         0.         0.        ]\n",
      " [0.         0.         0.         0.         0.         0.\n",
      "  0.         0.         0.         0.         0.         0.\n",
      "  0.         0.         0.         0.         0.         0.\n",
      "  0.         0.         0.         0.         0.         0.\n",
      "  0.         0.         0.         0.         0.         0.\n",
      "  0.         0.         0.         0.         0.         0.\n",
      "  0.         0.16666667 0.33333333 0.         0.33333333 0.83333333\n",
      "  0.33333333 0.66666667 0.        ]\n",
      " [0.         0.         0.         0.         0.         0.\n",
      "  0.         0.         0.         0.         0.         0.\n",
      "  0.         0.         0.         0.         0.         0.\n",
      "  0.         0.         0.         0.         0.         0.\n",
      "  0.         0.         0.         0.         0.         0.\n",
      "  0.         0.         0.         0.         0.5        0.\n",
      "  0.         0.83333333 0.33333333 0.         0.         0.5\n",
      "  0.         0.         0.        ]\n",
      " [0.         0.         0.         0.         0.         0.\n",
      "  0.         0.         0.         0.         0.         0.\n",
      "  0.         0.         0.         0.         0.         0.\n",
      "  0.         0.         0.         0.         0.         0.\n",
      "  0.         0.         0.         0.         0.         0.\n",
      "  0.         0.         0.         0.         0.83333333 0.\n",
      "  0.         0.5        0.83333333 0.         0.         0.\n",
      "  0.         0.         0.        ]\n",
      " [0.         0.         0.         0.         0.         0.\n",
      "  0.         0.         0.         0.         0.5        0.\n",
      "  0.         0.         0.         0.         0.         0.\n",
      "  0.         0.         0.         0.         0.         0.\n",
      "  0.         0.         0.         0.         0.         0.\n",
      "  0.         0.         0.         0.         0.         0.\n",
      "  0.         0.16666667 0.         0.         0.         0.\n",
      "  0.         0.         0.        ]\n",
      " [0.         0.         0.         0.         0.         0.\n",
      "  0.         0.         0.         0.         0.         0.\n",
      "  0.         0.         0.         0.         0.         0.\n",
      "  0.         0.         0.         0.         0.         0.\n",
      "  0.         0.         0.         0.         0.         0.\n",
      "  0.         0.66666667 0.         0.83333333 0.66666667 0.\n",
      "  0.         0.66666667 0.         0.         0.         0.\n",
      "  0.         0.         0.        ]\n",
      " [0.         0.         0.         0.         0.         0.33333333\n",
      "  0.5        0.33333333 0.33333333 0.         0.83333333 0.83333333\n",
      "  0.5        0.         0.         0.         0.         0.\n",
      "  0.         0.         0.         0.         0.         0.\n",
      "  0.         0.         0.         0.16666667 0.         0.\n",
      "  0.         0.33333333 0.         0.83333333 0.         0.\n",
      "  0.         0.16666667 0.         0.         0.         0.\n",
      "  0.         0.         0.        ]\n",
      " [0.         0.         0.         0.         0.         0.\n",
      "  0.33333333 0.         0.         0.         0.5        0.\n",
      "  0.         0.         0.         0.         0.         0.\n",
      "  0.         0.         0.         0.         0.         0.\n",
      "  0.         0.         0.         0.         0.         0.\n",
      "  0.         0.         0.         0.         0.         0.\n",
      "  0.         0.         0.         0.         0.         0.\n",
      "  0.         0.         0.        ]\n",
      " [0.         0.         0.         0.         0.         0.\n",
      "  0.         0.         0.         0.         0.         0.\n",
      "  0.         0.         0.         0.         0.         0.\n",
      "  0.         0.         0.         0.         0.         0.\n",
      "  0.         0.         0.         0.         0.         0.\n",
      "  0.         0.         0.         0.         0.         0.\n",
      "  0.         0.33333333 0.         0.         0.33333333 0.33333333\n",
      "  0.         0.         0.        ]\n",
      " [0.         0.         0.         0.         0.         0.5\n",
      "  0.16666667 0.         0.         0.         0.         0.\n",
      "  0.         0.         0.         0.         0.         0.\n",
      "  0.         0.         0.         0.         0.         0.\n",
      "  0.         0.         0.         0.         0.         0.\n",
      "  0.         0.         0.         0.         0.         0.\n",
      "  0.         0.         0.         0.         0.33333333 0.\n",
      "  0.         0.         0.        ]\n",
      " [0.         0.         0.33333333 0.33333333 0.         0.33333333\n",
      "  0.33333333 0.         0.         0.         0.5        0.\n",
      "  0.16666667 0.         0.         0.         0.         0.\n",
      "  0.         0.         0.         0.         0.         0.\n",
      "  0.         0.         0.         0.         0.         0.\n",
      "  0.         0.         0.         0.         0.         0.\n",
      "  0.         0.         0.         0.         0.         0.\n",
      "  0.         0.         0.        ]\n",
      " [0.         0.         0.         0.         0.         0.\n",
      "  0.         0.         0.         0.         0.         0.\n",
      "  0.         0.         0.         0.         0.         0.\n",
      "  0.         0.         0.         0.         0.         0.\n",
      "  0.         0.         0.         0.         0.         0.\n",
      "  0.         0.         0.         0.         0.         0.\n",
      "  0.         0.         0.         0.         0.         0.\n",
      "  0.         0.         0.        ]\n",
      " [0.5        0.         0.         0.5        0.         0.\n",
      "  0.         0.         0.         0.         0.         0.\n",
      "  0.         0.         0.         0.         0.         0.\n",
      "  0.         0.         0.         0.         0.         0.\n",
      "  0.         0.         0.         0.         0.         0.\n",
      "  0.         0.         0.         0.         0.         0.\n",
      "  0.         0.         0.         0.         0.         0.\n",
      "  0.         0.         0.        ]\n",
      " [0.         0.         0.         0.         0.         0.\n",
      "  0.         0.         0.         0.         0.         0.\n",
      "  0.         0.         0.         0.         0.         0.\n",
      "  0.         0.         0.         0.         0.         0.\n",
      "  0.         0.         0.         0.         0.         0.\n",
      "  0.         0.         0.         0.         0.         0.\n",
      "  0.         0.         0.         0.         0.         0.\n",
      "  0.         0.         0.        ]\n",
      " [0.         0.         0.         0.         0.         0.\n",
      "  0.         0.         0.         0.         0.         0.\n",
      "  0.         0.         0.         0.         0.         0.\n",
      "  0.         0.         0.         0.         0.         0.\n",
      "  0.         0.         0.         0.         0.         0.\n",
      "  0.         0.         0.         0.         0.         0.\n",
      "  0.         0.         0.         0.         0.         0.\n",
      "  0.         0.5        0.        ]\n",
      " [0.         0.         0.         0.         0.         0.\n",
      "  0.         0.         0.         0.         0.         0.\n",
      "  0.         0.         0.         0.         0.         0.\n",
      "  0.         0.         0.         0.         0.         0.\n",
      "  0.         0.         0.         0.         0.         0.\n",
      "  0.         0.         0.         0.         0.         0.\n",
      "  0.         0.         0.83333333 0.         0.         0.\n",
      "  0.         0.66666667 0.        ]\n",
      " [0.         0.         0.         0.         0.         0.\n",
      "  0.         0.         0.         0.         0.         0.\n",
      "  0.         0.         0.         0.         0.         0.\n",
      "  0.         0.         0.         0.         0.         0.\n",
      "  0.         0.         0.         0.         0.         0.\n",
      "  0.         0.         0.         0.         0.5        0.\n",
      "  0.         0.         0.         0.         0.         0.\n",
      "  0.         0.         0.        ]\n",
      " [0.         0.         0.         0.         0.         0.\n",
      "  0.         0.         0.         0.         0.         0.\n",
      "  0.         0.         0.         0.         0.         0.\n",
      "  0.         0.         0.         0.         0.         0.\n",
      "  0.         0.         0.         0.         0.         0.\n",
      "  0.         0.         0.         0.         0.16666667 0.\n",
      "  0.         0.         0.33333333 0.         0.         0.\n",
      "  0.         0.         0.        ]\n",
      " [0.         0.         0.         0.         0.         0.\n",
      "  0.         0.         0.         0.         0.         0.\n",
      "  0.         0.         0.         0.         0.         0.\n",
      "  0.         0.         0.         0.         0.         0.\n",
      "  0.         0.         0.         0.         0.83333333 0.33333333\n",
      "  0.         0.83333333 0.83333333 0.         0.66666667 0.\n",
      "  0.         0.         0.         0.         0.         0.\n",
      "  0.         0.         0.        ]\n",
      " [0.         0.         0.         0.         0.         0.\n",
      "  0.         0.         0.         0.         0.         0.\n",
      "  0.         0.         0.         0.         0.         0.\n",
      "  0.         0.         0.         0.         0.         0.\n",
      "  0.         0.         0.         0.         0.83333333 0.\n",
      "  0.         0.33333333 0.         0.         0.         0.\n",
      "  0.         0.         0.         0.         0.         0.\n",
      "  0.         0.         0.        ]\n",
      " [0.         0.         0.         0.         0.         0.\n",
      "  0.         0.         0.         0.         0.         0.\n",
      "  0.         0.         0.         0.         0.         0.\n",
      "  0.         0.5        0.         0.         0.         0.\n",
      "  0.         0.         0.5        0.         0.83333333 0.66666667\n",
      "  0.         0.16666667 0.83333333 0.         0.         0.\n",
      "  0.         0.         0.         0.         0.         0.\n",
      "  0.         0.         0.        ]\n",
      " [0.         0.         0.         0.         0.         0.\n",
      "  0.         0.         0.         0.         0.         0.\n",
      "  0.         0.         0.         0.         0.         0.\n",
      "  0.         0.         0.         0.83333333 0.         0.\n",
      "  0.33333333 0.83333333 0.83333333 0.         0.83333333 0.\n",
      "  0.         0.         0.         0.         0.         0.\n",
      "  0.         0.         0.         0.         0.         0.\n",
      "  0.         0.         0.        ]\n",
      " [0.         0.         0.         0.         0.         0.\n",
      "  0.         0.         0.         0.         0.         0.\n",
      "  0.         0.         0.         0.         0.         0.\n",
      "  0.         0.         0.83333333 0.5        0.         0.\n",
      "  0.         0.         0.83333333 0.         0.         0.\n",
      "  0.         0.         0.         0.         0.         0.\n",
      "  0.         0.         0.         0.         0.         0.\n",
      "  0.         0.         0.        ]\n",
      " [0.         0.         0.         0.         0.         0.\n",
      "  0.         0.         0.         0.         0.         0.\n",
      "  0.         0.         0.33333333 0.         0.         0.\n",
      "  0.         0.33333333 0.5        0.5        0.5        0.16666667\n",
      "  0.         0.         0.33333333 0.         0.33333333 0.33333333\n",
      "  0.         0.         0.33333333 0.         0.         0.\n",
      "  0.         0.         0.         0.         0.         0.\n",
      "  0.         0.         0.        ]\n",
      " [0.         0.         0.         0.         0.         0.\n",
      "  0.         0.         0.         0.         0.         0.\n",
      "  0.         0.         0.         0.5        0.5        0.33333333\n",
      "  0.5        0.         0.         0.         0.         0.\n",
      "  0.         0.         0.         0.         0.         0.\n",
      "  0.         0.         0.33333333 0.         0.         0.33333333\n",
      "  0.         0.         0.         0.         0.         0.\n",
      "  0.         0.         0.16666667]\n",
      " [0.         0.         0.         0.         0.         0.\n",
      "  0.         0.         0.         0.         0.         0.\n",
      "  0.         0.         0.         0.         0.         0.\n",
      "  0.16666667 0.         0.         0.         0.         0.\n",
      "  0.         0.         0.         0.         0.         0.\n",
      "  0.         0.         0.         0.         0.         0.16666667\n",
      "  0.         0.         0.         0.         0.         0.\n",
      "  0.         0.         0.16666667]\n",
      " [0.         0.         0.         0.         0.         0.\n",
      "  0.         0.         0.         0.         0.         0.\n",
      "  0.         0.         0.         0.         0.         0.\n",
      "  0.         0.         0.         0.         0.         0.\n",
      "  0.         0.         0.         0.         0.         0.\n",
      "  0.         0.         0.         0.         0.16666667 0.83333333\n",
      "  0.         0.         0.83333333 0.5        0.         0.\n",
      "  0.         0.83333333 0.66666667]\n",
      " [0.         0.         0.         0.         0.         0.\n",
      "  0.         0.         0.         0.         0.         0.\n",
      "  0.         0.         0.         0.         0.         0.\n",
      "  0.         0.         0.         0.         0.         0.\n",
      "  0.         0.         0.         0.         0.         0.\n",
      "  0.         0.         0.         0.         0.         0.\n",
      "  0.         0.         0.         0.         0.         0.\n",
      "  0.         0.         0.        ]\n",
      " [0.         0.         0.         0.         0.         0.\n",
      "  0.         0.         0.         0.         0.         0.\n",
      "  0.         0.         0.         0.         0.         0.\n",
      "  0.33333333 0.         0.         0.         0.         0.\n",
      "  0.         0.         0.         0.         0.         0.\n",
      "  0.         0.         0.         0.         0.         0.33333333\n",
      "  0.         0.         0.         0.         0.         0.\n",
      "  0.         0.5        0.66666667]\n",
      " [0.         0.         0.         0.         0.         0.\n",
      "  0.         0.         0.         0.         0.         0.\n",
      "  0.         0.         0.         0.         0.         0.\n",
      "  0.         0.         0.         0.         0.         0.\n",
      "  0.         0.         0.         0.         0.         0.\n",
      "  0.         0.         0.         0.         0.         0.\n",
      "  0.         0.         0.83333333 0.         0.         0.\n",
      "  0.         0.83333333 0.33333333]\n",
      " [0.         0.         0.         0.         0.         0.\n",
      "  0.         0.         0.         0.         0.         0.\n",
      "  0.         0.         0.         0.         0.         0.\n",
      "  0.         0.         0.         0.         0.         0.\n",
      "  0.         0.         0.         0.         0.         0.\n",
      "  0.         0.         0.         0.         0.         0.\n",
      "  0.         0.         0.         0.         0.         0.\n",
      "  0.5        0.66666667 0.83333333]\n",
      " [0.         0.         0.         0.         0.         0.\n",
      "  0.         0.         0.         0.         0.         0.\n",
      "  0.         0.         0.         0.         0.         0.\n",
      "  0.         0.         0.         0.         0.         0.\n",
      "  0.         0.         0.         0.         0.         0.\n",
      "  0.         0.         0.         0.         0.         0.\n",
      "  0.         0.         0.         0.         0.         0.\n",
      "  0.         0.83333333 0.        ]\n",
      " [0.         0.         0.         0.         0.         0.\n",
      "  0.         0.         0.         0.         0.         0.\n",
      "  0.         0.         0.         0.         0.         0.\n",
      "  0.         0.         0.         0.         0.         0.\n",
      "  0.         0.         0.         0.         0.         0.\n",
      "  0.         0.         0.         0.         0.         0.\n",
      "  0.         0.         0.         0.         0.         0.\n",
      "  0.         0.83333333 0.        ]\n",
      " [0.         0.         0.         0.         0.         0.\n",
      "  0.         0.         0.         0.         0.         0.\n",
      "  0.         0.         0.         0.         0.         0.\n",
      "  0.         0.         0.         0.         0.         0.\n",
      "  0.         0.         0.         0.         0.         0.\n",
      "  0.         0.         0.         0.         0.         0.\n",
      "  0.         0.         0.         0.         0.         0.\n",
      "  0.16666667 0.         0.        ]\n",
      " [0.         0.         0.         0.         0.         0.\n",
      "  0.         0.         0.         0.         0.         0.\n",
      "  0.         0.         0.         0.         0.         0.\n",
      "  0.         0.         0.         0.         0.         0.\n",
      "  0.         0.         0.         0.         0.         0.\n",
      "  0.         0.         0.         0.         0.         0.\n",
      "  0.         0.         0.         0.         0.         0.5\n",
      "  0.16666667 0.         0.        ]\n",
      " [0.         0.         0.         0.         0.         0.\n",
      "  0.         0.         0.         0.         0.         0.\n",
      "  0.         0.         0.         0.         0.         0.\n",
      "  0.         0.         0.         0.         0.         0.\n",
      "  0.         0.         0.         0.         0.         0.\n",
      "  0.         0.         0.         0.         0.         0.\n",
      "  0.         0.         0.         0.         0.         0.\n",
      "  0.         0.         0.        ]\n",
      " [0.         0.         0.         0.         0.         0.\n",
      "  0.         0.         0.         0.         0.         0.\n",
      "  0.         0.         0.         0.         0.         0.\n",
      "  0.         0.         0.         0.         0.         0.\n",
      "  0.         0.         0.         0.         0.         0.\n",
      "  0.         0.         0.         0.         0.         0.\n",
      "  0.         0.         0.         0.5        0.16666667 0.16666667\n",
      "  0.66666667 0.         0.83333333]\n",
      " [0.         0.         0.         0.         0.         0.\n",
      "  0.         0.         0.         0.         0.         0.\n",
      "  0.         0.         0.         0.         0.         0.\n",
      "  0.         0.         0.         0.         0.         0.\n",
      "  0.         0.         0.         0.         0.         0.\n",
      "  0.         0.         0.         0.         0.         0.\n",
      "  0.         0.         0.         0.33333333 0.5        0.5\n",
      "  0.5        0.         0.16666667]\n",
      " [0.         0.         0.         0.         0.         0.\n",
      "  0.         0.         0.         0.         0.         0.\n",
      "  0.         0.         0.         0.         0.         0.\n",
      "  0.         0.         0.         0.         0.         0.\n",
      "  0.         0.         0.         0.         0.         0.\n",
      "  0.         0.         0.         0.         0.         0.\n",
      "  0.         0.         0.         0.5        0.5        0.\n",
      "  0.16666667 0.         0.        ]\n",
      " [0.         0.         0.         0.         0.         0.\n",
      "  0.         0.         0.         0.         0.         0.\n",
      "  0.         0.         0.         0.         0.         0.\n",
      "  0.         0.         0.         0.         0.         0.\n",
      "  0.         0.         0.         0.         0.         0.\n",
      "  0.         0.         0.         0.         0.         0.\n",
      "  0.         0.         0.         0.         0.5        0.\n",
      "  0.         0.         0.        ]\n",
      " [0.         0.         0.         0.         0.         0.\n",
      "  0.         0.         0.         0.         0.         0.\n",
      "  0.         0.         0.         0.         0.         0.\n",
      "  0.         0.         0.         0.         0.         0.\n",
      "  0.         0.         0.         0.         0.         0.\n",
      "  0.         0.         0.         0.         0.         0.\n",
      "  0.         0.         0.         0.16666667 0.         0.\n",
      "  0.         0.         0.        ]]\n",
      "END of expanded matrix - SAMPLE 1\n",
      "\n",
      "\n",
      "filter_duplicate function\n",
      "['24 R', '25 E', '27 G', '28 E', '30 A', '31 A', '32 R', '33 E', '34 V', '192 K', '193 D', '194 L', '195 H', '219 T', '304 Q', '314 K', '315 D', '316 T', '318 E', '320 Y', '321 T', '322 H', '323 F', '324 T', '330 K', '333 Q', '334 F', '336 F', '337 D', '338 A', '339 V', '340 T', '341 D', '343 I', '344 I', '345 K', '346 N', '347 N', '348 L', '349 K', '350 D', '351 C', '352 G', '353 L', '354 F']\n",
      "\n",
      "filter_duplicate function\n",
      "['24 R', '25 E', '27 G', '28 E', '30 A', '31 A', '32 R', '33 E', '34 V', '192 K', '193 D', '194 L', '195 H', '219 T', '304 Q', '314 K', '315 D', '316 T', '318 E', '320 Y', '321 T', '322 H', '323 F', '324 T', '330 K', '333 Q', '334 F', '336 F', '337 D', '338 A', '339 V', '340 T', '341 D', '343 I', '344 I', '345 K', '346 N', '347 N', '348 L', '349 K', '350 D', '351 C', '352 G', '353 L', '354 F']\n",
      "45\n",
      "45\n",
      "45\n",
      "45\n"
     ]
    },
    {
     "data": {
      "text/plain": [
       "<Figure size 432x288 with 0 Axes>"
      ]
     },
     "metadata": {},
     "output_type": "display_data"
    },
    {
     "data": {
      "image/png": "[encoded data removed]",
      "text/plain": [
       "<Figure size 1440x504 with 4 Axes>"
      ]
     },
     "metadata": {
      "needs_background": "light"
     },
     "output_type": "display_data"
    }
   ],
   "source": [
    "full_xlabels = make_union_list(xlabels, xlabels2)\n",
    "full_ylabels = make_union_list(ylabels, ylabels2)\n",
    "\n",
    "print('X - Receptor Residues')\n",
    "print(full_xlabels)\n",
    "print('')\n",
    "print('number of (Full) Receptor residues is:', len(full_xlabels))\n",
    "\n",
    "print('')\n",
    "print('')\n",
    "\n",
    "print('Y - Galpha Residues')\n",
    "print(full_ylabels)\n",
    "print('')\n",
    "print('number of (Full) Galpha residues is:', len(full_ylabels))\n",
    "print('')\n",
    "\n",
    "print('mdmb - Galpha', ylabels)\n",
    "print('')\n",
    "\n",
    "expanded_sample1_matrix = expanded_matrix(matrix, full_xlabels, full_ylabels, xlabels, ylabels)\n",
    "print('')\n",
    "expanded_sample2_matrix = expanded_matrix(matrix2, full_xlabels, full_ylabels, xlabels2, ylabels2)\n",
    "\n",
    "print (expanded_sample1_matrix)\n",
    "print('END of expanded matrix - SAMPLE 1')\n",
    "print('')\n",
    "\n",
    "### expanded_matrix does not match individual matrix. There is a shift in contacts\n",
    "\n",
    "### function: filter_duplicate_matrix\n",
    "### function: reorder_matrix\n",
    "\n",
    "non_rep_sample1_matrix, filtered_xlabel, filtered_ylabel = filter_duplicate_matrix(expanded_sample1_matrix,full_xlabels,full_ylabels)\n",
    "non_rep_sample2_matrix, filtered_xlabel, filtered_ylabel = filter_duplicate_matrix(expanded_sample2_matrix,full_xlabels,full_ylabels)\n",
    "\n",
    "reordered_sample1_matrix, reordered_xlabel, reordered_ylabel = reorder_matrix(non_rep_sample1_matrix, filtered_xlabel, filtered_ylabel)\n",
    "reordered_sample2_matrix, reordered_xlabel, reordered_ylabel = reorder_matrix(non_rep_sample2_matrix, filtered_xlabel, filtered_ylabel)\n",
    "\n",
    "#print (reordered_sample1_matrix)\n",
    "#print ('END of reordered matrix - SAMPLE 1')\n",
    "\n",
    "########################################################################################################################################\n",
    "\n",
    "plt.clf()\n",
    "plt.figure(figsize=(20,7))\n",
    "ax = plt.subplot(1, 2, 1)\n",
    "im,cbar = heatmap(reordered_sample1_matrix, reordered_xlabel, reordered_ylabel, ax=ax,cmap=\"Blues\", cbarlabel=\"frequency\")\n",
    "texts = annotate_heatmap(im, valfmt=\"{x:.1f}\", size=6)\n",
    "plt.title('MDMB contact frequency between receptor and Galpha')\n",
    "plt.ylabel(y_axis_label)\n",
    "plt.xlabel(x_axis_label)\n",
    "\n",
    "########################################################################################################################################\n",
    "\n",
    "ax = plt.subplot(1, 2, 2)\n",
    "im,cbar = heatmap(reordered_sample2_matrix, reordered_xlabel, reordered_ylabel, ax=ax,cmap=\"Blues\", cbarlabel=\"frequency\")\n",
    "texts = annotate_heatmap(im, valfmt=\"{x:.1f}\", size=6)\n",
    "plt.title('CP55940 contact frequency between receptor and Galpha')\n",
    "plt.ylabel(y_axis_label)\n",
    "plt.xlabel(x_axis_label)\n",
    "plt.savefig('MDMB_CP55940.png')"
   ]
  },
  {
   "cell_type": "markdown",
   "metadata": {},
   "source": [
    "### Calculate the difference between two trajs"
   ]
  },
  {
   "cell_type": "code",
   "execution_count": 10,
   "metadata": {},
   "outputs": [
    {
     "name": "stdout",
     "output_type": "stream",
     "text": [
      "cp55_parameters.ini\n",
      "['mdmb', 'cp55']\n"
     ]
    },
    {
     "data": {
      "text/plain": [
       "<Figure size 432x288 with 0 Axes>"
      ]
     },
     "metadata": {},
     "output_type": "display_data"
    },
    {
     "data": {
      "image/png": "[encoded data removed]",
      "text/plain": [
       "<Figure size 720x576 with 2 Axes>"
      ]
     },
     "metadata": {
      "needs_background": "light"
     },
     "output_type": "display_data"
    }
   ],
   "source": [
    "matrix, xlabel, ylabel = filter_empty_matrix(reordered_sample1_matrix-reordered_sample2_matrix, reordered_xlabel, reordered_ylabel)\n",
    "translate_xlabel, translate_ylabel = add_labels('cp55', 'cp55_parameters.ini', xlabel, ylabel)\n",
    "plt.clf()\n",
    "plt.figure(figsize=(10,8))\n",
    "ax = plt.subplot(1, 1, 1)\n",
    "im,cbar = heatmap(matrix, translate_xlabel, translate_ylabel,ax=ax,cmap=\"bwr\",vmin=-1,vmax=1,cbarlabel=\"frequency\")\n",
    "#im,cbar = heatmap(reordered_sample1_matrix-reordered_sample2_matrix, reordered_xlabel, reordered_ylabel, ax=ax,cmap=\"bwr\",vmin=-1,vmax=1,cbarlabel=\"frequency\")\n",
    "texts = annotate_heatmap(im, valfmt=\"{x:.1f}\", size=6)\n",
    "plt.title('(MDMB-CP55940) Difference contact frequency between receptor and Galpha')\n",
    "plt.ylabel(y_axis_label)\n",
    "plt.xlabel(x_axis_label)\n",
    "plt.savefig('MDMB_CP55940_diff.png')"
   ]
  },
  {
   "cell_type": "code",
   "execution_count": 11,
   "metadata": {},
   "outputs": [],
   "source": [
    "threshold = 0.1\n",
    "different_interaction_pairs=find_different_pair(matrix,xlabel, ylabel,threshold)\n",
    "\n",
    "if not os.path.isdir('cont_freq_resids_list'):\n",
    "    os.system('mkdir cont_freq_resids_list')\n",
    "    \n",
    "write_down_difference(different_interaction_pairs, 'cont_freq_resids_list/diff_between_MDMB_vs_CP_Ga_matrix.py')"
   ]
  },
  {
   "cell_type": "code",
   "execution_count": null,
   "metadata": {},
   "outputs": [],
   "source": []
  }
 ],
 "metadata": {
  "kernelspec": {
   "display_name": "Python 3",
   "language": "python",
   "name": "python3"
  },
  "language_info": {
   "codemirror_mode": {
    "name": "ipython",
    "version": 3
   },
   "file_extension": ".py",
   "mimetype": "text/x-python",
   "name": "python",
   "nbconvert_exporter": "python",
   "pygments_lexer": "ipython3",
   "version": "3.7.6"
  }
 },
 "nbformat": 4,
 "nbformat_minor": 4
}
